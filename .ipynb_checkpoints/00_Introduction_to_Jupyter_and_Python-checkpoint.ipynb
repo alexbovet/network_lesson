{
 "cells": [
  {
   "cell_type": "markdown",
   "metadata": {},
   "source": [
    "# Jupyter/IPython Notebook Quick Start Guide\n",
    "\n",
    "The following is partially taken from the [offical documentation](https://jupyter-notebook-beginner-guide.readthedocs.io/en/latest/index.html):\n",
    "\n",
    "## 1. What is the Jupyter Notebook?\n",
    "Notebook documents (or “notebooks”, all lower case) are documents produced by the Jupyter Notebook App, which contain both *computer code* (e.g. python) and *rich text elements* (paragraph, equations, figures, links, etc...). Notebook documents are both human-readable documents containing the analysis description and the results (figures, tables, etc..) as well as executable documents which can be run to perform data analysis."
   ]
  },
  {
   "cell_type": "code",
   "execution_count": null,
   "metadata": {
    "collapsed": false
   },
   "outputs": [],
   "source": [
    "# press Shit+Enter to execute this cell\n",
    "print('This is a cell containing code')\n"
   ]
  },
  {
   "cell_type": "code",
   "execution_count": 1,
   "metadata": {
    "collapsed": false
   },
   "outputs": [
    {
     "data": {
      "text/plain": [
       "[<matplotlib.lines.Line2D at 0x7f75fa29fac8>]"
      ]
     },
     "execution_count": 1,
     "metadata": {},
     "output_type": "execute_result"
    },
    {
     "data": {
      "image/png": "[encoded data removed]",
      "text/plain": [
       "<matplotlib.figure.Figure at 0x7f761d17e898>"
      ]
     },
     "metadata": {},
     "output_type": "display_data"
    }
   ],
   "source": [
    "#we can also make figures\n",
    "import matplotlib.pyplot as plt\n",
    "import numpy as np\n",
    "% matplotlib inline\n",
    "x = np.linspace(-np.pi, np.pi, 100)\n",
    "plt.plot(x, np.sin(x))\n",
    "\n",
    "# Use `Tab` for completion and `Shift-Tab` for code info"
   ]
  },
  {
   "cell_type": "markdown",
   "metadata": {},
   "source": [
    "This is an equation formatted in LaTeX $y = \\sin(x)$\n",
    "\n",
    "double-click this cell to edit it"
   ]
  },
  {
   "cell_type": "markdown",
   "metadata": {},
   "source": [
    "## 2. Jupyter Notebook App\n",
    "The Jupyter Notebook App is a server-client application that allows editing and running notebook documents via a web browser.\n",
    "\n",
    "## 3. kernel\n",
    "A notebook kernel is a “computational engine” that executes the code contained in a Notebook document. The ipython kernel executes python code. Kernels for many other languages exist (official kernels).\n",
    "\n",
    "## 4. Notebook Dashboard\n",
    "\n",
    "The Notebook Dashboard is the component which is shown first when you launch Jupyter Notebook App. The Notebook Dashboard is mainly used to open notebook documents, and to manage the running kernels (visualize and shutdown).\n",
    "\n",
    "## 5. References\n",
    "\n",
    "- [Jupyter project ](https://jupyter.org/)\n",
    "- [Jupyter documentation](http://jupyter.readthedocs.io/en/latest/)\n",
    "- [Jupyter notebooks documentation](http://jupyter-notebook.readthedocs.io/en/latest/)"
   ]
  },
  {
   "cell_type": "markdown",
   "metadata": {
    "collapsed": true
   },
   "source": [
    "# (Very) Short Python Introduction\n",
    "\n",
    "In addition to \"standard\" data types such as variables and strings, Python knows a number of compound data types, used to group together other values. We will briefly see * [Lists](https://welcomedata.wordpress.com/2015/01/11/python-lists-and-dictionaries/)* and *Dictionaries*\n",
    "\n",
    "## 1. Lists\n",
    "\n",
    "https://docs.python.org/3/tutorial/introduction.html#lists\n",
    "\n",
    "### Accessing by index:"
   ]
  },
  {
   "cell_type": "code",
   "execution_count": null,
   "metadata": {
    "collapsed": false
   },
   "outputs": [],
   "source": [
    "# define a new list\n",
    "zoo_animals = [\"pangolin\", \"cassowary\", \"sloth\", \"tiger\"];\n",
    "# One animal is missing!\n",
    "\n",
    "if len(zoo_animals) > 3:\n",
    "    print(\"The first animal at the zoo is the \" + zoo_animals[0])\n",
    "    print(\"The second animal at the zoo is the \" + zoo_animals[1])\n",
    "    print(\"The third animal at the zoo is the \" + zoo_animals[2])\n",
    "    print(\"The fourth animal at the zoo is the \" + zoo_animals[3])"
   ]
  },
  {
   "cell_type": "markdown",
   "metadata": {},
   "source": [
    "### Appending to a list or extending a list:"
   ]
  },
  {
   "cell_type": "code",
   "execution_count": null,
   "metadata": {
    "collapsed": false
   },
   "outputs": [],
   "source": [
    "# empty list\n",
    "suitcase = []\n",
    "suitcase.append(\"sunglasses\")\n",
    "\n",
    "# Your code here!\n",
    "suitcase.append(\"doll\")\n",
    "suitcase.append(\"ball\")\n",
    "suitcase.append(\"comb\")\n",
    "\n",
    "list_length = len(suitcase) # Set this to the length of suitcase\n",
    "\n",
    "print(\"There are %d items in the suitcase.\" % (list_length))\n",
    "print(suitcase)\n",
    "\n",
    "# we can also append an other list to a list\n",
    "# using the \"extend\" method\n",
    "numbers = [42,7,12]\n",
    "\n",
    "suitcase.extend(numbers)\n",
    "\n",
    "print(suitcase)"
   ]
  },
  {
   "cell_type": "markdown",
   "metadata": {},
   "source": [
    "### Slicing:"
   ]
  },
  {
   "cell_type": "code",
   "execution_count": null,
   "metadata": {
    "collapsed": true
   },
   "outputs": [],
   "source": [
    "suitcase = [\"sunglasses\", \"hat\", \"passport\", \"laptop\", \"suit\", \"shoes\"]\n",
    "\n",
    "first  = suitcase[0:2]  # The first and second items (index zero and one)\n",
    "middle = suitcase[2:4]   # Third and fourth items (index two and three)\n",
    "last   = suitcase[4:6]  # The last two items (index four and five)"
   ]
  },
  {
   "cell_type": "markdown",
   "metadata": {},
   "source": [
    "### Looping over the elements of a list:"
   ]
  },
  {
   "cell_type": "code",
   "execution_count": null,
   "metadata": {
    "collapsed": false
   },
   "outputs": [],
   "source": [
    "my_list = [1,9,3,8,5,7]\n",
    "\n",
    "for number in my_list:\n",
    "    print(2*number)\n",
    "      # Your code here"
   ]
  },
  {
   "cell_type": "markdown",
   "metadata": {},
   "source": [
    "## 2. Dictionaries\n",
    "\n",
    "https://docs.python.org/3/tutorial/datastructures.html#dictionaries\n",
    "\n",
    "Unlike sequences, which are indexed by a range of numbers, dictionaries are indexed by keys, which can be strings or numbers.\n",
    "\n",
    "It is best to think of a dictionary as an unordered set of key: value pairs, with the requirement that the keys are unique (within one dictionary).\n",
    "\n",
    "### Creating a Dictionary:"
   ]
  },
  {
   "cell_type": "code",
   "execution_count": null,
   "metadata": {
    "collapsed": false
   },
   "outputs": [],
   "source": [
    "# Assigning a dictionary with three key-value pairs to residents:\n",
    "residents = {'Puffin' : 104, 'Sloth' : 105, 'Burmese Python' : 106}\n",
    "\n",
    "print(residents['Puffin']) # Prints Puffin's room number\n",
    "\n",
    "print(residents['Sloth'])\n",
    "print(residents['Burmese Python'])"
   ]
  },
  {
   "cell_type": "markdown",
   "metadata": {},
   "source": [
    "### Adding entries:"
   ]
  },
  {
   "cell_type": "code",
   "execution_count": null,
   "metadata": {
    "collapsed": true
   },
   "outputs": [],
   "source": [
    "menu = {} # Empty dictionary\n",
    "menu['Raclette'] = 14.50 # Adding new key-value pair\n",
    "print(menu['Raclette'])\n",
    "\n",
    "menu['Cheese Fondue'] = 10.50\n",
    "menu['Muesli'] = 13.50\n",
    "menu['Quiche'] = 19.50\n",
    "menu['Cervela'] = 17.50 # Your code here: Add some dish-price pairs to menu!\n",
    "\n",
    "print(\"There are \" + str(len(menu)) + \" items on the menu.\")\n",
    "print(menu)"
   ]
  },
  {
   "cell_type": "markdown",
   "metadata": {},
   "source": [
    "### Removing entries:"
   ]
  },
  {
   "cell_type": "code",
   "execution_count": null,
   "metadata": {
    "collapsed": false
   },
   "outputs": [],
   "source": [
    "del menu['Muesli']\n",
    "print(menu)"
   ]
  },
  {
   "cell_type": "markdown",
   "metadata": {},
   "source": [
    "### Looping over entries:"
   ]
  },
  {
   "cell_type": "code",
   "execution_count": null,
   "metadata": {
    "collapsed": false
   },
   "outputs": [],
   "source": [
    "for key, value in menu.items():\n",
    "    print(key, value)"
   ]
  },
  {
   "cell_type": "markdown",
   "metadata": {
    "collapsed": true
   },
   "source": [
    "### Accessing entries:"
   ]
  },
  {
   "cell_type": "code",
   "execution_count": null,
   "metadata": {
    "collapsed": false
   },
   "outputs": [],
   "source": [
    "raclette = menu.get('Raclette')\n",
    "print(raclette)\n",
    "\n",
    "burger = menu.get('Burger')\n",
    "print(burger)"
   ]
  }
 ],
 "metadata": {
  "anaconda-cloud": {},
  "kernelspec": {
   "display_name": "Python [graphtool_compile]",
   "language": "python",
   "name": "Python [graphtool_compile]"
  },
  "language_info": {
   "codemirror_mode": {
    "name": "ipython",
    "version": 3
   },
   "file_extension": ".py",
   "mimetype": "text/x-python",
   "name": "python",
   "nbconvert_exporter": "python",
   "pygments_lexer": "ipython3",
   "version": "3.5.2"
  }
 },
 "nbformat": 4,
 "nbformat_minor": 0
}
