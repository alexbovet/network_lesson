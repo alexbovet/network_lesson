{
 "cells": [
  {
   "cell_type": "markdown",
   "metadata": {},
   "source": [
    "Here, I introduce basic notions of Jupyter and Python. I assume that you have some knowledge of programming (in MATLAB for example).\n",
    "You will need to have [anaconda](https://www.anaconda.com/products/individual) for python 3 installed for the following.\n",
    "\n",
    "# Jupyter/IPython Notebook Quick Start Guide\n",
    "\n",
    "The following is partially taken from the [offical documentation](https://jupyter-notebook-beginner-guide.readthedocs.io/en/latest/index.html):\n",
    "\n",
    "## 1. What is the Jupyter Notebook?\n",
    "Notebook documents (or “notebooks”, all lower case) are documents produced by the Jupyter Notebook App, which contain both *computer code* (e.g. python) and *rich text elements* (paragraph, equations, figures, links, etc...). Notebook documents are both human-readable documents containing the analysis description and the results (figures, tables, etc..) as well as executable documents which can be run to perform data analysis."
   ]
  },
  {
   "cell_type": "code",
   "execution_count": 1,
   "metadata": {},
   "outputs": [
    {
     "name": "stdout",
     "output_type": "stream",
     "text": [
      "This is a cell containing python code\n"
     ]
    }
   ],
   "source": [
    "# press Shift+Enter to execute this cell\n",
    "print('This is a cell containing python code')\n"
   ]
  },
  {
   "cell_type": "code",
   "execution_count": 3,
   "metadata": {},
   "outputs": [
    {
     "data": {
      "text/plain": [
       "[<matplotlib.lines.Line2D at 0x7f63f1af2128>]"
      ]
     },
     "execution_count": 3,
     "metadata": {},
     "output_type": "execute_result"
    },
    {
     "data": {
      "image/png": "[encoded data removed]",
      "text/plain": [
       "<Figure size 432x288 with 1 Axes>"
      ]
     },
     "metadata": {
      "needs_background": "light"
     },
     "output_type": "display_data"
    }
   ],
   "source": [
    "#we can also make figures\n",
    "import matplotlib.pyplot as plt\n",
    "import numpy as np\n",
    "%matplotlib inline\n",
    "x = np.linspace(-np.pi, np.pi, 100)\n",
    "plt.plot(x, np.sin(x))\n",
    "\n",
    "# Use `Tab` for completion and `Shift-Tab` for code info"
   ]
  },
  {
   "cell_type": "markdown",
   "metadata": {},
   "source": [
    "This is an equation formatted in LaTeX $y = \\sin(x)$\n",
    "\n",
    "double-click this cell to edit it"
   ]
  },
  {
   "cell_type": "markdown",
   "metadata": {},
   "source": [
    "## 2. Jupyter Notebook App\n",
    "The Jupyter Notebook App is a server-client application that allows editing and running notebook documents via a web browser.\n",
    "\n",
    "## 3. kernel\n",
    "A notebook kernel is a “computational engine” that executes the code contained in a Notebook document. The ipython kernel executes python code. Kernels for many other languages exist (official kernels).\n",
    "\n",
    "## 4. Notebook Dashboard\n",
    "\n",
    "The Notebook Dashboard is the component which is shown first when you launch Jupyter Notebook App. The Notebook Dashboard is mainly used to open notebook documents, and to manage the running kernels (visualize and shutdown).\n",
    "\n",
    "## 5. References\n",
    "\n",
    "- [Jupyter project ](https://jupyter.org/)\n",
    "- [Jupyter documentation](http://jupyter.readthedocs.io/en/latest/)\n",
    "- [Jupyter notebooks documentation](http://jupyter-notebook.readthedocs.io/en/latest/)"
   ]
  },
  {
   "cell_type": "markdown",
   "metadata": {
    "collapsed": true
   },
   "source": [
    "# (Very) Short Python Introduction\n",
    "\n",
    "In addition to \"standard\" data types such as integers, floats and strings, Python knows a number of compound data types, used to group together other values. We will briefly see * [Lists](https://welcomedata.wordpress.com/2015/01/11/python-lists-and-dictionaries/)* and *Dictionaries*\n",
    "\n",
    "## 1. Lists\n",
    "\n",
    "https://docs.python.org/3/tutorial/introduction.html#lists\n",
    "\n",
    "### Accessing by index:"
   ]
  },
  {
   "cell_type": "code",
   "execution_count": 4,
   "metadata": {},
   "outputs": [
    {
     "name": "stdout",
     "output_type": "stream",
     "text": [
      "The first animal at the zoo is the pangolin\n",
      "The second animal at the zoo is the cassowary\n",
      "The third animal at the zoo is the sloth\n",
      "The fourth animal at the zoo is the tiger\n"
     ]
    }
   ],
   "source": [
    "# define a new list\n",
    "zoo_animals = [\"pangolin\", \"cassowary\", \"sloth\", \"tiger\"]\n",
    "\n",
    "if len(zoo_animals) > 3:\n",
    "    print(\"The first animal at the zoo is the \" + zoo_animals[0])\n",
    "    print(\"The second animal at the zoo is the \" + zoo_animals[1])\n",
    "    print(\"The third animal at the zoo is the \" + zoo_animals[2])\n",
    "    print(\"The fourth animal at the zoo is the \" + zoo_animals[3])"
   ]
  },
  {
   "cell_type": "markdown",
   "metadata": {},
   "source": [
    "### Appending to a list or extending a list:"
   ]
  },
  {
   "cell_type": "code",
   "execution_count": 5,
   "metadata": {},
   "outputs": [
    {
     "name": "stdout",
     "output_type": "stream",
     "text": [
      "There are 4 items in the suitcase.\n",
      "['sunglasses', 'doll', 'ball', 'comb']\n",
      "['sunglasses', 'doll', 'ball', 'comb', 42, 7, 12]\n"
     ]
    }
   ],
   "source": [
    "# empty list\n",
    "suitcase = []\n",
    "suitcase.append(\"sunglasses\")\n",
    "\n",
    "# Your code here!\n",
    "suitcase.append(\"doll\")\n",
    "suitcase.append(\"ball\")\n",
    "suitcase.append(\"comb\")\n",
    "\n",
    "list_length = len(suitcase) # Set this to the length of suitcase\n",
    "\n",
    "print(\"There are %d items in the suitcase.\" % (list_length))\n",
    "print(suitcase)\n",
    "\n",
    "# we can also append an other list to a list\n",
    "# using the \"extend\" method\n",
    "numbers = [42,7,12]\n",
    "\n",
    "suitcase.extend(numbers)\n",
    "\n",
    "print(suitcase)"
   ]
  },
  {
   "cell_type": "markdown",
   "metadata": {},
   "source": [
    "### Slicing:"
   ]
  },
  {
   "cell_type": "code",
   "execution_count": 6,
   "metadata": {},
   "outputs": [
    {
     "name": "stdout",
     "output_type": "stream",
     "text": [
      "['suit', 'shoes']\n"
     ]
    }
   ],
   "source": [
    "suitcase = [\"sunglasses\", \"hat\", \"passport\", \"laptop\", \"suit\", \"shoes\"]\n",
    "\n",
    "first  = suitcase[0:2]  # The first and second items (index zero and one)\n",
    "middle = suitcase[2:4]   # Third and fourth items (index two and three)\n",
    "last   = suitcase[4:6]  # The last two items (index four and five)\n",
    "\n",
    "print(last)"
   ]
  },
  {
   "cell_type": "markdown",
   "metadata": {},
   "source": [
    "### Looping over the elements of a list:"
   ]
  },
  {
   "cell_type": "code",
   "execution_count": 7,
   "metadata": {},
   "outputs": [
    {
     "name": "stdout",
     "output_type": "stream",
     "text": [
      "2\n",
      "18\n",
      "6\n",
      "16\n",
      "10\n",
      "14\n"
     ]
    }
   ],
   "source": [
    "my_list = [1,9,3,8,5,7]\n",
    "\n",
    "for number in my_list:\n",
    "    print(2*number)\n",
    "      # Your code here"
   ]
  },
  {
   "cell_type": "markdown",
   "metadata": {},
   "source": [
    "## 2. Dictionaries\n",
    "\n",
    "https://docs.python.org/3/tutorial/datastructures.html#dictionaries\n",
    "\n",
    "Unlike sequences, which are indexed by a range of numbers, dictionaries are indexed by keys, which can be strings or numbers.\n",
    "\n",
    "It is best to think of a dictionary as an unordered set of key: value pairs, with the requirement that the keys are unique (within one dictionary).\n",
    "\n",
    "### Creating a Dictionary:"
   ]
  },
  {
   "cell_type": "code",
   "execution_count": 8,
   "metadata": {},
   "outputs": [
    {
     "name": "stdout",
     "output_type": "stream",
     "text": [
      "104\n",
      "105\n",
      "106\n"
     ]
    }
   ],
   "source": [
    "# Assigning a dictionary with three key-value pairs to residents:\n",
    "residents = {'Puffin' : 104, 'Sloth' : 105, 'Burmese Python' : 106}\n",
    "\n",
    "print(residents['Puffin']) # Prints Puffin's room number\n",
    "\n",
    "print(residents['Sloth'])\n",
    "print(residents['Burmese Python'])"
   ]
  },
  {
   "cell_type": "markdown",
   "metadata": {},
   "source": [
    "### Adding entries:"
   ]
  },
  {
   "cell_type": "code",
   "execution_count": 9,
   "metadata": {},
   "outputs": [
    {
     "name": "stdout",
     "output_type": "stream",
     "text": [
      "14.5\n",
      "There are 5 items on the menu.\n",
      "{'Raclette': 14.5, 'Cheese Fondue': 10.5, 'Muesli': 13.5, 'Quiche': 19.5, 'Cervela': 17.5}\n"
     ]
    }
   ],
   "source": [
    "menu = {} # Empty dictionary\n",
    "menu['Raclette'] = 14.50 # Adding new key-value pair\n",
    "print(menu['Raclette'])\n",
    "\n",
    "menu['Cheese Fondue'] = 10.50\n",
    "menu['Muesli'] = 13.50\n",
    "menu['Quiche'] = 19.50\n",
    "menu['Cervela'] = 17.50 # Your code here: Add some dish-price pairs to menu!\n",
    "\n",
    "print(\"There are \" + str(len(menu)) + \" items on the menu.\")\n",
    "print(menu)"
   ]
  },
  {
   "cell_type": "markdown",
   "metadata": {},
   "source": [
    "### Removing entries:"
   ]
  },
  {
   "cell_type": "code",
   "execution_count": 10,
   "metadata": {},
   "outputs": [
    {
     "name": "stdout",
     "output_type": "stream",
     "text": [
      "{'Raclette': 14.5, 'Cheese Fondue': 10.5, 'Quiche': 19.5, 'Cervela': 17.5}\n"
     ]
    }
   ],
   "source": [
    "del menu['Muesli']\n",
    "print(menu)"
   ]
  },
  {
   "cell_type": "markdown",
   "metadata": {},
   "source": [
    "### Looping over entries:"
   ]
  },
  {
   "cell_type": "code",
   "execution_count": 11,
   "metadata": {},
   "outputs": [
    {
     "name": "stdout",
     "output_type": "stream",
     "text": [
      "Raclette 14.5\n",
      "Cheese Fondue 10.5\n",
      "Quiche 19.5\n",
      "Cervela 17.5\n"
     ]
    }
   ],
   "source": [
    "for key, value in menu.items():\n",
    "    print(key, value)"
   ]
  },
  {
   "cell_type": "markdown",
   "metadata": {
    "collapsed": true
   },
   "source": [
    "### Accessing entries:"
   ]
  },
  {
   "cell_type": "code",
   "execution_count": 12,
   "metadata": {},
   "outputs": [
    {
     "name": "stdout",
     "output_type": "stream",
     "text": [
      "14.5\n",
      "None\n"
     ]
    }
   ],
   "source": [
    "raclette = menu.get('Raclette')\n",
    "print(raclette)\n",
    "\n",
    "#accessing a non-existing key\n",
    "burger = menu.get('Burger')\n",
    "print(burger)\n"
   ]
  },
  {
   "cell_type": "code",
   "execution_count": 13,
   "metadata": {},
   "outputs": [
    {
     "data": {
      "text/plain": [
       "dict_keys(['Raclette', 'Cheese Fondue', 'Quiche', 'Cervela'])"
      ]
     },
     "execution_count": 13,
     "metadata": {},
     "output_type": "execute_result"
    }
   ],
   "source": [
    "#listing keys\n",
    "menu.keys()"
   ]
  },
  {
   "cell_type": "code",
   "execution_count": 14,
   "metadata": {},
   "outputs": [
    {
     "data": {
      "text/plain": [
       "dict_values([14.5, 10.5, 19.5, 17.5])"
      ]
     },
     "execution_count": 14,
     "metadata": {},
     "output_type": "execute_result"
    }
   ],
   "source": [
    "#listing values\n",
    "menu.values()\n"
   ]
  },
  {
   "cell_type": "markdown",
   "metadata": {},
   "source": [
    "# NumPy\n",
    "\n",
    "NumPy is the fundamental package for scientific computing with Python (http://www.numpy.org/).\n",
    "It is part of SciPy (https://www.scipy.org/).\n",
    "\n",
    "The numpy package provides functionalities that makes Python similar to MATLAB."
   ]
  },
  {
   "cell_type": "code",
   "execution_count": 15,
   "metadata": {},
   "outputs": [
    {
     "name": "stdout",
     "output_type": "stream",
     "text": [
      "1\n",
      "11\n",
      "4.909090909090909\n",
      "10\n"
     ]
    }
   ],
   "source": [
    "# first import the package\n",
    "import numpy as np\n",
    "\n",
    "# numpy works with array similarly to MATLAB \n",
    "x = np.array([1,2,4,5,6,8,10,4,3,5,6])\n",
    "\n",
    "# but indexing start at 0!!\n",
    "print(x[0])\n",
    "\n",
    "# arrays have useful methods\n",
    "print(x.size)\n",
    "\n",
    "print(x.mean())\n",
    "\n",
    "# we can also use numpy functions\n",
    "\n",
    "amax = np.max(x)\n",
    "\n",
    "print(amax)\n"
   ]
  },
  {
   "cell_type": "markdown",
   "metadata": {},
   "source": [
    "And you can do much more with NumPy! see https://numpy.org/doc/stable/user/quickstart.html\n"
   ]
  },
  {
   "cell_type": "markdown",
   "metadata": {},
   "source": [
    "# Matplotlib\n",
    "\n",
    "Matplotlib is a Python 2D plotting library which produces publication quality figures in a variety of hardcopy formats and interactive environments across platforms (https://matplotlib.org/).\n"
   ]
  },
  {
   "cell_type": "code",
   "execution_count": 16,
   "metadata": {},
   "outputs": [
    {
     "data": {
      "text/plain": [
       "<matplotlib.legend.Legend at 0x7f63ef9b4358>"
      ]
     },
     "execution_count": 16,
     "metadata": {},
     "output_type": "execute_result"
    },
    {
     "data": {
      "image/png": "[encoded data removed]",
      "text/plain": [
       "<Figure size 432x288 with 1 Axes>"
      ]
     },
     "metadata": {
      "needs_background": "light"
     },
     "output_type": "display_data"
    }
   ],
   "source": [
    "# import matplotlib\n",
    "import matplotlib.pyplot as plt\n",
    "# make matplotlib create figures inline\n",
    "%matplotlib inline\n",
    "\n",
    "x = np.linspace(0,2,100)\n",
    "\n",
    "y1 = np.exp(x)\n",
    "y2 = np.sqrt(x)\n",
    "\n",
    "plt.plot(x,y1, 'r-', label='y = exp(x)')\n",
    "plt.plot(x,y2, 'b--', label='y = sqrt(x)')\n",
    "\n",
    "plt.xlabel('x')\n",
    "plt.ylabel('y')\n",
    "plt.legend()\n",
    "\n"
   ]
  },
  {
   "cell_type": "code",
   "execution_count": 18,
   "metadata": {},
   "outputs": [
    {
     "data": {
      "image/png": "[encoded data removed]",
      "text/plain": [
       "<Figure size 432x288 with 1 Axes>"
      ]
     },
     "metadata": {
      "needs_background": "light"
     },
     "output_type": "display_data"
    }
   ],
   "source": [
    "# press Shift-Tab to see information about a function\n",
    "norm = np.random.randn(200)\n",
    "\n",
    "n, bins, patches = plt.hist(norm, density=True, bins=20)"
   ]
  },
  {
   "cell_type": "code",
   "execution_count": null,
   "metadata": {},
   "outputs": [],
   "source": []
  }
 ],
 "metadata": {
  "anaconda-cloud": {},
  "kernelspec": {
   "display_name": "Python 3",
   "language": "python",
   "name": "python3"
  },
  "language_info": {
   "codemirror_mode": {
    "name": "ipython",
    "version": 3
   },
   "file_extension": ".py",
   "mimetype": "text/x-python",
   "name": "python",
   "nbconvert_exporter": "python",
   "pygments_lexer": "ipython3",
   "version": "3.6.10"
  }
 },
 "nbformat": 4,
 "nbformat_minor": 1
}
