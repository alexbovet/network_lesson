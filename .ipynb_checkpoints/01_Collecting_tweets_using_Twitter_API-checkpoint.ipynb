{
 "cells": [
  {
   "cell_type": "markdown",
   "metadata": {},
   "source": [
    "## Collecting tweets using the Twitter API\n",
    "\n",
    "\n",
    "In this section we are going to see how to connect to the Twitter API to collect tweets and save them.\n",
    "\n",
    "\"In computer programming, an **Application Programming Interface (API)** is a set of subroutine definitions, protocols, and tools for building application software.\" [wikipedia](https://en.wikipedia.org/wiki/Application_programming_interface)\n",
    "\n",
    "The Twitter API is the tool we use to collect tweets from Twitter\n",
    "\n",
    "[Twitter APIs](https://developer.twitter.com/en/docs/twitter-api/getting-started/about-twitter-api) has different endpoints that allows one to preform different actions, such as:\n",
    "- Accessing a roughly 1% random sample of publicly available Tweets in real-time (https://developer.twitter.com/en/docs/twitter-api/v1/tweets/filter-realtime/overview).\n",
    "\n",
    "- Searching among historical tweets (https://developer.twitter.com/en/docs/twitter-api/v1/tweets/search/overview).\n",
    "\n",
    "To use the Twitter API from python, we will use the library [tweepy](http://www.tweepy.org/) which facilitate the access to the API.\n",
    "\n",
    "To install it run on of the following command in your terminal or execute the cell below:\n",
    "\n",
    "Intallation with pip:\n",
    "```\n",
    "pip install tweepy\n",
    "```\n",
    "\n",
    "Installation with conda:\n",
    "```\n",
    "conda install -c conda-forge tweepy\n",
    "```"
   ]
  },
  {
   "cell_type": "code",
   "execution_count": null,
   "metadata": {},
   "outputs": [],
   "source": [
    "# this will install tweepy on your machine\n",
    "!pip install tweepy"
   ]
  },
  {
   "cell_type": "markdown",
   "metadata": {},
   "source": [
    "In order to be able to use Twitter APIs, you need to apply for a developper account, create a [project](https://developer.twitter.com/en/docs/projects/overview) and an [app](https://developer.twitter.com/en/docs/apps/overview).\n",
    "\n",
    "Follow the instructions here: https://developer.twitter.com/en/docs/twitter-api/getting-started/getting-access-to-the-twitter-api\n",
    "\n",
    "Once you have created an app, create a new file in the lesson's folder named `keys.json` and copy paste your *Consumer Keys* (*API Key* and *API Secret Key*) and *Authentication Tokens* (*Access Token* and *Access Token Secret*) as shown below in this new file:"
   ]
  },
  {
   "cell_type": "raw",
   "metadata": {
    "collapsed": true
   },
   "source": [
    "{\"api_key\": \"xxx\",\n",
    "\"api_secret_key\": \"xxx\",\n",
    "\"access_token\" : \"xxx\",\n",
    "\"access_token_secret\" : \"xxx\"}"
   ]
  },
  {
   "cell_type": "markdown",
   "metadata": {},
   "source": [
    "It is important to keep your keys private and secure. See https://developer.twitter.com/en/docs/authentication/guides/authentication-best-practices"
   ]
  },
  {
   "cell_type": "code",
   "execution_count": null,
   "metadata": {},
   "outputs": [],
   "source": [
    "import json\n",
    "with open('keys.json', 'r') as fopen:\n",
    "    keys = json.load(fopen)\n",
    "# print(keys)"
   ]
  },
  {
   "cell_type": "markdown",
   "metadata": {},
   "source": [
    "### Authentificate with the Twitter API\n"
   ]
  },
  {
   "cell_type": "code",
   "execution_count": null,
   "metadata": {},
   "outputs": [],
   "source": [
    "import tweepy\n",
    "\n",
    "auth = tweepy.OAuthHandler(keys['api_key'], keys['api_secret_key'])\n",
    "auth.set_access_token(keys['access_token'], keys['access_token_secret'])\n",
    "\n",
    "# create the api object that we will use to interact with Twitter\n",
    "api = tweepy.API(auth)"
   ]
  },
  {
   "cell_type": "code",
   "execution_count": null,
   "metadata": {},
   "outputs": [],
   "source": [
    "# example of an action:\n",
    "tweet = api.update_status('Hey @BovetAlexandre!')"
   ]
  },
  {
   "cell_type": "code",
   "execution_count": null,
   "metadata": {},
   "outputs": [],
   "source": [
    "# the returned object is a tweepy Status object\n",
    "type(tweet)"
   ]
  },
  {
   "cell_type": "markdown",
   "metadata": {},
   "source": [
    "The tweet object contains all the attributes of a [tweet data dictionary](https://developer.twitter.com/en/docs/twitter-api/v1/data-dictionary/object-model/tweet)"
   ]
  },
  {
   "cell_type": "code",
   "execution_count": null,
   "metadata": {},
   "outputs": [],
   "source": [
    "print('Tweet text: ', tweet.text)\n",
    "print('Tweet author: ', tweet.author.screen_name)\n",
    "print('Tweet creation time: ', tweet.created_at)"
   ]
  },
  {
   "cell_type": "code",
   "execution_count": null,
   "metadata": {},
   "outputs": [],
   "source": [
    "# It also contains a JSON version of the tweet object\n",
    "tweet._json"
   ]
  },
  {
   "cell_type": "markdown",
   "metadata": {},
   "source": [
    "## Collecting tweets from the Streaming API\n",
    "source : https://docs.tweepy.org/en/v3.10.0/streaming_how_to.html            \n",
    "\n",
    "### Step 1: Creating a StreamListener\n",
    "\n",
    "This simple stream listener prints status text. The on_data method of Tweepy’s StreamListener conveniently passes data from statuses to the on_status method.\n",
    "Create class MyStreamListener inheriting from StreamListener and overriding on_status.:"
   ]
  },
  {
   "cell_type": "code",
   "execution_count": null,
   "metadata": {},
   "outputs": [],
   "source": [
    "#override tweepy.StreamListener to make it print tweet content when new data arrives\n",
    "class MyStreamListener(tweepy.StreamListener):\n",
    "\n",
    "    def on_status(self, status):\n",
    "        print(status.text)"
   ]
  },
  {
   "cell_type": "markdown",
   "metadata": {},
   "source": [
    "### Step 2: Creating a Stream\n",
    "\n",
    "Using the api object we created and the StreamListener we can create a Stream Object:"
   ]
  },
  {
   "cell_type": "code",
   "execution_count": null,
   "metadata": {},
   "outputs": [],
   "source": [
    "myStreamListener = MyStreamListener()\n",
    "myStream = tweepy.Stream(auth = api.auth, listener=myStreamListener)"
   ]
  },
  {
   "cell_type": "markdown",
   "metadata": {},
   "source": [
    "### Step 3: Starting a Stream\n",
    "\n",
    "A number of twitter streams are available through Tweepy. Most cases will use filter, the user_stream, or the sitestream. For more information on the capabilities and limitations of the different streams see [Twitter Streaming API Documentation](https://developer.twitter.com/en/docs/twitter-api/v1/tweets/filter-realtime/overview)\n",
    "\n",
    "In this example we will use filter to stream all tweets containing the word python. The track parameter is an array of search terms to stream."
   ]
  },
  {
   "cell_type": "code",
   "execution_count": null,
   "metadata": {},
   "outputs": [],
   "source": [
    "# this will start tracking tweets with the key word 'new york'.\n",
    "# to stop it, interrupt the kernel.\n",
    "# try with different keywords\n",
    "# you have to run the cell below to disconnect the stream before rerunning this one\n",
    "myStream.filter(track=['#cop26','#ClimateChange', 'climate'])"
   ]
  },
  {
   "cell_type": "code",
   "execution_count": null,
   "metadata": {},
   "outputs": [],
   "source": [
    "myStream.disconnect()"
   ]
  },
  {
   "cell_type": "code",
   "execution_count": null,
   "metadata": {},
   "outputs": [],
   "source": [
    "myStream.filter(track=['moderna'], languages=['en'])"
   ]
  },
  {
   "cell_type": "code",
   "execution_count": null,
   "metadata": {},
   "outputs": [],
   "source": [
    "myStream.disconnect()"
   ]
  },
  {
   "cell_type": "code",
   "execution_count": null,
   "metadata": {
    "scrolled": false
   },
   "outputs": [],
   "source": [
    "# streaming tweets from a given location\n",
    "# we need to provide a comma-separated list of longitude,latitude pairs specifying a set of bounding boxes\n",
    "# for example for New York\n",
    "myStream.filter(locations=[-74,40,-73,41])"
   ]
  },
  {
   "cell_type": "code",
   "execution_count": null,
   "metadata": {},
   "outputs": [],
   "source": [
    "myStream.disconnect()"
   ]
  },
  {
   "cell_type": "markdown",
   "metadata": {},
   "source": [
    "### Saving the stream to a file\n",
    "Lets' define a new StreamListener that will save the collected data to a file"
   ]
  },
  {
   "cell_type": "code",
   "execution_count": null,
   "metadata": {},
   "outputs": [],
   "source": [
    "#override tweepy.StreamListener to make it save data to a file\n",
    "# and limit the maximum number of tweets we want to collect\n",
    "class StreamSaver(tweepy.StreamListener):\n",
    "    def __init__(self, filename, max_num_tweets=2000, api=None):\n",
    "        self.filename = filename\n",
    "        \n",
    "        self.num_tweets = 0\n",
    "        \n",
    "        self.max_num_tweets = max_num_tweets\n",
    "        \n",
    "        tweepy.StreamListener.__init__(self, api=api)\n",
    "        \n",
    "        \n",
    "    def on_data(self, data):\n",
    "        #print json directly to file\n",
    "        \n",
    "        with open(self.filename,'a') as tf:\n",
    "            tf.write(data)\n",
    "\n",
    "        self.num_tweets += 1\n",
    "\n",
    "        if self.num_tweets%100 == 0:\n",
    "            print(self.num_tweets)\n",
    "\n",
    "        if self.num_tweets > self.max_num_tweets:\n",
    "            return False\n",
    "        \n",
    "            \n",
    "    def on_error(self, status):\n",
    "        print(status)"
   ]
  },
  {
   "cell_type": "code",
   "execution_count": null,
   "metadata": {},
   "outputs": [],
   "source": [
    "# create the new StreamListener and stream object that will save collected tweets to a file\n",
    "saveStream = StreamSaver(filename='tweets.txt', max_num_tweets=5000)\n",
    "mySaveStream = tweepy.Stream(auth = api.auth, listener=saveStream)\n"
   ]
  },
  {
   "cell_type": "code",
   "execution_count": null,
   "metadata": {},
   "outputs": [],
   "source": [
    "mySaveStream.filter(track=['coronavirus','covid-19',\n",
    "                           'covid19','covid_19','corona virus',\n",
    "                           'covid','vaccines','vaccine'],\n",
    "                    languages=['en'])\n"
   ]
  },
  {
   "cell_type": "code",
   "execution_count": null,
   "metadata": {},
   "outputs": [],
   "source": [
    "mySaveStream.disconnect()\n",
    "saveStream.num_tweets"
   ]
  },
  {
   "cell_type": "markdown",
   "metadata": {},
   "source": [
    " "
   ]
  }
 ],
 "metadata": {
  "anaconda-cloud": {},
  "kernelspec": {
   "display_name": "Python 3",
   "language": "python",
   "name": "python3"
  },
  "language_info": {
   "codemirror_mode": {
    "name": "ipython",
    "version": 3
   },
   "file_extension": ".py",
   "mimetype": "text/x-python",
   "name": "python",
   "nbconvert_exporter": "python",
   "pygments_lexer": "ipython3",
   "version": "3.6.10"
  }
 },
 "nbformat": 4,
 "nbformat_minor": 2
}
