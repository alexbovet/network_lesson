{
 "cells": [
  {
   "cell_type": "markdown",
   "metadata": {},
   "source": [
    "## Collecting tweets using the Twitter API\n",
    "\n",
    "\"In computer programming, an **Application Programming Interface (API)** is a set of subroutine definitions, protocols, and tools for building application software.\" [wikipedia](https://en.wikipedia.org/wiki/Application_programming_interface)\n",
    "\n",
    "The Twitter API is the tool we use to collect tweets from Twitter\n",
    "- https://dev.twitter.com/streaming/public\n",
    "- https://dev.twitter.com/rest/public\n",
    "\n",
    "Install [tweepy](http://www.tweepy.org/)\n",
    "\n",
    "```\n",
    "pip install tweepy\n",
    "```\n",
    "\n"
   ]
  },
  {
   "cell_type": "code",
   "execution_count": null,
   "metadata": {
    "collapsed": false
   },
   "outputs": [],
   "source": [
    "# this will install tweepy on your machine\n",
    "!pip install tweepy"
   ]
  },
  {
   "cell_type": "markdown",
   "metadata": {},
   "source": [
    "Create a Twitter app and find your consumer token and secret\n",
    "\n",
    "1. go to https://apps.twitter.com/\n",
    "2. click `Create New App`\n",
    "3. fill in the details\n",
    "4. click on `manage keys and access tokens`\n",
    "5. copy paste your *Consumer Key (API Key)* and *Consumer Secret (API Secret)* below:\n",
    "6. click `create my access token`"
   ]
  },
  {
   "cell_type": "code",
   "execution_count": null,
   "metadata": {
    "collapsed": true
   },
   "outputs": [],
   "source": [
    "consumer_key = 'xxx'\n",
    "consumer_secret = 'xxx'\n",
    "access_token = 'xxx'\n",
    "access_token_secret = 'xxx'\n"
   ]
  },
  {
   "cell_type": "markdown",
   "metadata": {},
   "source": [
    "### Authentificate with the Twitter API\n"
   ]
  },
  {
   "cell_type": "code",
   "execution_count": null,
   "metadata": {
    "collapsed": false
   },
   "outputs": [],
   "source": [
    "import tweepy\n",
    "\n",
    "auth = tweepy.OAuthHandler(consumer_key, consumer_secret)\n",
    "auth.set_access_token(access_token, access_token_secret)\n",
    "\n",
    "# create the api object that we will use to interact with Twitter\n",
    "api = tweepy.API(auth)"
   ]
  },
  {
   "cell_type": "code",
   "execution_count": null,
   "metadata": {
    "collapsed": false
   },
   "outputs": [],
   "source": [
    "# example of:\n",
    "tweet = api.update_status('Hello Twitter')"
   ]
  },
  {
   "cell_type": "code",
   "execution_count": null,
   "metadata": {
    "collapsed": false
   },
   "outputs": [],
   "source": [
    "# see all the information contained in a tweet:\n",
    "print(tweet)"
   ]
  },
  {
   "cell_type": "markdown",
   "metadata": {},
   "source": [
    "### Step 1: Creating a StreamListener\n",
    "\n",
    "This simple stream listener prints status text. The on_data method of Tweepy’s StreamListener conveniently passes data from statuses to the on_status method.\n",
    "Create class MyStreamListener inheriting from StreamListener and overriding on_status.:"
   ]
  },
  {
   "cell_type": "code",
   "execution_count": null,
   "metadata": {
    "collapsed": true
   },
   "outputs": [],
   "source": [
    "#override tweepy.StreamListener to make it print tweet content when new data arrives\n",
    "class MyStreamListener(tweepy.StreamListener):\n",
    "\n",
    "    def on_status(self, status):\n",
    "        print(status.text)"
   ]
  },
  {
   "cell_type": "markdown",
   "metadata": {},
   "source": [
    "### Step 2: Creating a Stream\n",
    "\n",
    "We need an api to stream. See Authentication Tutorial to learn how to get an api object. Once we have an api and a status listener we can create our stream object.:"
   ]
  },
  {
   "cell_type": "code",
   "execution_count": null,
   "metadata": {
    "collapsed": false
   },
   "outputs": [],
   "source": [
    "myStreamListener = MyStreamListener()\n",
    "myStream = tweepy.Stream(auth = api.auth, listener=myStreamListener)"
   ]
  },
  {
   "cell_type": "markdown",
   "metadata": {},
   "source": [
    "### Step 3: Starting a Stream\n",
    "\n",
    "A number of twitter streams are available through Tweepy. Most cases will use filter, the user_stream, or the sitestream. For more information on the capabilities and limitations of the different streams see [Twitter Streaming API Documentation](https://dev.twitter.com/streaming/overview/request-parameters)\n",
    "\n",
    "In this example we will use filter to stream all tweets containing the word python. The track parameter is an array of search terms to stream."
   ]
  },
  {
   "cell_type": "code",
   "execution_count": null,
   "metadata": {
    "collapsed": false
   },
   "outputs": [],
   "source": [
    "myStream.filter(track=['python'])"
   ]
  },
  {
   "cell_type": "code",
   "execution_count": null,
   "metadata": {
    "collapsed": true
   },
   "outputs": [],
   "source": [
    "myStream.disconnect()"
   ]
  },
  {
   "cell_type": "code",
   "execution_count": null,
   "metadata": {
    "collapsed": false
   },
   "outputs": [],
   "source": [
    "myStream.filter(track=['realdonaldtrump,trump'], languages=['en'])"
   ]
  },
  {
   "cell_type": "code",
   "execution_count": null,
   "metadata": {
    "collapsed": false
   },
   "outputs": [],
   "source": [
    "#override tweepy.StreamListener to make it save data to a file\n",
    "class StreamSaver(tweepy.StreamListener):\n",
    "    def __init__(self, filename, api=None):\n",
    "        self.filename = filename\n",
    "        \n",
    "        self.num_tweets = 0\n",
    "        \n",
    "        tweepy.StreamListener.__init__(self, api=api)\n",
    "        \n",
    "        \n",
    "    def on_data(self, data):\n",
    "        #print json directly to file\n",
    "        \n",
    "        with open(self.filename,'a') as tf:\n",
    "            tf.write(data)\n",
    "            \n",
    "        self.num_tweets += 1\n",
    "        \n",
    "        print(self.num_tweets)\n",
    "            \n",
    "    def on_error(self, status):\n",
    "        print(status)"
   ]
  },
  {
   "cell_type": "code",
   "execution_count": null,
   "metadata": {
    "collapsed": false
   },
   "outputs": [],
   "source": [
    "saveStream = StreamSaver(filename='trumpTweets.txt')\n",
    "mySaveStream = tweepy.Stream(auth = api.auth, listener=saveStream)\n"
   ]
  },
  {
   "cell_type": "code",
   "execution_count": null,
   "metadata": {
    "collapsed": false
   },
   "outputs": [],
   "source": [
    "mySaveStream.filter(track=['realdonaldtrump,trump'], languages=['en'])\n"
   ]
  },
  {
   "cell_type": "code",
   "execution_count": null,
   "metadata": {
    "collapsed": true
   },
   "outputs": [],
   "source": [
    "mySaveStream.disconnect()"
   ]
  },
  {
   "cell_type": "markdown",
   "metadata": {},
   "source": [
    "def "
   ]
  }
 ],
 "metadata": {
  "anaconda-cloud": {},
  "kernelspec": {
   "display_name": "Python [graphtool_compile]",
   "language": "python",
   "name": "Python [graphtool_compile]"
  },
  "language_info": {
   "codemirror_mode": {
    "name": "ipython",
    "version": 3
   },
   "file_extension": ".py",
   "mimetype": "text/x-python",
   "name": "python",
   "nbconvert_exporter": "python",
   "pygments_lexer": "ipython3",
   "version": "3.5.2"
  }
 },
 "nbformat": 4,
 "nbformat_minor": 2
}
