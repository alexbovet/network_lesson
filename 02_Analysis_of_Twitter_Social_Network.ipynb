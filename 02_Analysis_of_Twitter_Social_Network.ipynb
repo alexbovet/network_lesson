{
 "cells": [
  {
   "cell_type": "markdown",
   "metadata": {},
   "source": [
    "Tweets are saved in JSON format ([JavaScript Object Notation](https://www.w3schools.com/js/js_json_intro.asp))\n",
    "JSON is text, written with JavaScript object notation.\n",
    "\n",
    "The `json` python module allows to easily import json file into python [Dictonairies](https://docs.python.org/3/tutorial/datastructures.html#dictionaries)\n",
    "\n"
   ]
  },
  {
   "cell_type": "code",
   "execution_count": null,
   "metadata": {
    "collapsed": true
   },
   "outputs": [],
   "source": [
    "#load tweets \n",
    "\n",
    "import json\n",
    "\n",
    "filename = 'trumpTweets.txt'\n",
    "\n",
    "tweet_list = []\n",
    "\n",
    "with open(filename, 'r') as fopen:\n",
    "    # each line correspond to a tweet\n",
    "    for line in fopen:\n",
    "        tweet_list.append(json.loads(line))\n",
    "        "
   ]
  },
  {
   "cell_type": "markdown",
   "metadata": {},
   "source": [
    "Let's look at the informations contained in a tweet"
   ]
  },
  {
   "cell_type": "code",
   "execution_count": null,
   "metadata": {
    "collapsed": false
   },
   "outputs": [],
   "source": [
    "# take the first tweet of the list\n",
    "tweet = tweet_list[2]"
   ]
  },
  {
   "cell_type": "code",
   "execution_count": null,
   "metadata": {
    "collapsed": false
   },
   "outputs": [],
   "source": [
    "# each tweet is a python dictionary\n",
    "type(tweet)"
   ]
  },
  {
   "cell_type": "code",
   "execution_count": null,
   "metadata": {
    "collapsed": false
   },
   "outputs": [],
   "source": [
    "# all the 'entries' of the dictionary\n",
    "tweet.keys()"
   ]
  },
  {
   "cell_type": "markdown",
   "metadata": {},
   "source": [
    "you can find a description of the fields in the Twitter API documentation: https://dev.twitter.com/overview/api/tweets"
   ]
  },
  {
   "cell_type": "code",
   "execution_count": null,
   "metadata": {
    "collapsed": false
   },
   "outputs": [],
   "source": [
    "#creation time\n",
    "tweet['created_at']"
   ]
  },
  {
   "cell_type": "code",
   "execution_count": null,
   "metadata": {
    "collapsed": false
   },
   "outputs": [],
   "source": [
    "# text of the tweet\n",
    "print(tweet['text'])"
   ]
  },
  {
   "cell_type": "code",
   "execution_count": null,
   "metadata": {
    "collapsed": false
   },
   "outputs": [],
   "source": [
    "# user info\n",
    "tweet['user']"
   ]
  },
  {
   "cell_type": "code",
   "execution_count": null,
   "metadata": {
    "collapsed": false
   },
   "outputs": [],
   "source": [
    "# user is itslef a dict\n",
    "print(type(tweet['user']))\n",
    "\n",
    "tweet['user']['name']"
   ]
  },
  {
   "cell_type": "code",
   "execution_count": null,
   "metadata": {
    "collapsed": false
   },
   "outputs": [],
   "source": [
    "# unique id of the user\n",
    "tweet['user']['id']"
   ]
  },
  {
   "cell_type": "code",
   "execution_count": null,
   "metadata": {
    "collapsed": false
   },
   "outputs": [],
   "source": [
    "#is the tweet a retweet?\n",
    "'retweeted_status' in tweet"
   ]
  },
  {
   "cell_type": "code",
   "execution_count": null,
   "metadata": {
    "collapsed": true
   },
   "outputs": [],
   "source": [
    "if 'retweeted_status' in tweet:\n",
    "    print(tweet['retweeted_status'])\n",
    "# the `retweeted_status` is also a tweet dictionary    "
   ]
  },
  {
   "cell_type": "code",
   "execution_count": null,
   "metadata": {
    "collapsed": false
   },
   "outputs": [],
   "source": [
    "# user id and name of the retweeted user?\n",
    "if 'retweeted_status' in tweet:\n",
    "    print(tweet['retweeted_status']['user']['id'])\n",
    "    print(tweet['retweeted_status']['user']['name'])"
   ]
  },
  {
   "cell_type": "code",
   "execution_count": null,
   "metadata": {
    "collapsed": false
   },
   "outputs": [],
   "source": [
    "# is the tweet a reply?\n",
    "'in_reply_to_user_id' in tweet and tweet['in_reply_to_user_id'] is not None"
   ]
  },
  {
   "cell_type": "code",
   "execution_count": null,
   "metadata": {
    "collapsed": false
   },
   "outputs": [],
   "source": [
    "# 'entities' contains the hashtags, urls and usernames used in the tweet\n",
    "tweet['entities']"
   ]
  },
  {
   "cell_type": "code",
   "execution_count": null,
   "metadata": {
    "collapsed": false
   },
   "outputs": [],
   "source": [
    "# user id of the mentioned users\n",
    "for  mention in tweet['entities']['user_mentions']:\n",
    "    print(mention['id'])"
   ]
  },
  {
   "cell_type": "code",
   "execution_count": null,
   "metadata": {
    "collapsed": false
   },
   "outputs": [],
   "source": [
    "# is the tweet a quote?\n",
    "'quoted_status' in tweet"
   ]
  },
  {
   "cell_type": "markdown",
   "metadata": {},
   "source": [
    "# Building the network of interactions\n",
    "\n",
    "We will use the python module [`NetworkX`](https://networkx.readthedocs.io/en/stable/index.html) to construct and analyze the social network.\n",
    "\n",
    "A short introduction to networkx: https://github.com/networkx/notebooks\n"
   ]
  },
  {
   "cell_type": "markdown",
   "metadata": {},
   "source": [
    "Four types of interactions:\n",
    "- Retweet\n",
    "- Quote\n",
    "- Reply\n",
    "- Mention"
   ]
  },
  {
   "cell_type": "code",
   "execution_count": null,
   "metadata": {
    "collapsed": false
   },
   "outputs": [],
   "source": [
    "# let's define some functions to extract the interactions from tweets\n",
    "\n",
    "def getTweetID(tweet):\n",
    "    \"\"\" If properly included, get the ID of the tweet \"\"\"\n",
    "    return tweet.get('id')\n",
    "    \n",
    "def getUserIDandScreenName(tweet):\n",
    "    \"\"\" If properly included, get the tweet \n",
    "        user ID and Screen Name \"\"\"\n",
    "    user = tweet.get('user')\n",
    "    if user is not None:\n",
    "        uid = user.get('id')\n",
    "        screen_name = user.get('screen_name')\n",
    "        return uid, screen_name\n",
    "    else:\n",
    "        return (None, None)\n",
    "\n",
    "def getRetweetedUserIDandSreenName(tweet):\n",
    "    \"\"\" If properly included, get the retweet \n",
    "        source user ID and Screen Name\"\"\"\n",
    "    \n",
    "    retweet = tweet.get('retweeted_status')\n",
    "    if retweet is not None:\n",
    "        return getUserIDandScreenName(retweet)\n",
    "    else:\n",
    "        return (None, None)\n",
    "    \n",
    "def getRepliedUserIDandScreenName(tweet):\n",
    "    \"\"\" If properly included, get the ID and Screen Name \n",
    "        of the user the tweet replies to \"\"\"\n",
    "    \n",
    "    reply_id = tweet.get('in_reply_to_user_id')\n",
    "    reply_screenname = tweet.get('in_reply_to_screen_name')\n",
    "    return reply_id, reply_screenname\n",
    "    \n",
    "def getUserMentionsIDandScreenName(tweet):\n",
    "    \"\"\" If properly included, return a list of IDs and Screen Names tuple\n",
    "        of all user mentions, including retweeted and replied users \"\"\"\n",
    "        \n",
    "    mentions = []\n",
    "    entities = tweet.get('entities')\n",
    "    if entities is not None:\n",
    "        user_mentions = entities.get('user_mentions')\n",
    "        for mention in user_mentions:\n",
    "            mention_id = mention.get('id')\n",
    "            screen_name = mention.get('screen_name')\n",
    "            mentions.append((mention_id, screen_name))\n",
    "    \n",
    "    return mentions\n",
    "\n",
    "    \n",
    "def getQuotedUserIDandScreenName(tweet):\n",
    "    \"\"\" If properly included, get the ID of the user the tweet is quoting\"\"\"\n",
    "    \n",
    "    quoted_status = tweet.get('quoted_status')\n",
    "    \n",
    "    if quoted_status is not None:\n",
    "        return getUserIDandScreenName(quoted_status)\n",
    "    else:\n",
    "        return (None, None)\n",
    "    \n",
    "def getAllInteractions(tweet):\n",
    "    \"\"\" Get all the interactions from this tweet\n",
    "    \n",
    "        returns : (tweeter_id, tweeter_screenname), list of (interacting_id, interacting_screenname)\n",
    "    \"\"\"\n",
    "    \n",
    "    # Get the tweeter\n",
    "    tweeter = getUserIDandScreenName(tweet)\n",
    "    \n",
    "    # Nothing to do if we couldn't get the tweeter\n",
    "    if tweeter[0] is None:\n",
    "        return (None, None), []\n",
    "    \n",
    "    # a python set is a collection of unique items\n",
    "    # we use a set to avoid duplicated ids\n",
    "    interacting_users = set()\n",
    "    \n",
    "    # Add person they're replying to\n",
    "    interacting_users.add(getRepliedUserIDandScreenName(tweet))\n",
    "    \n",
    "    # Add person they retweeted\n",
    "    interacting_users.add(getRetweetedUserIDandSreenName(tweet))\n",
    "    \n",
    "    # Add person they quoted\n",
    "    interacting_users.add(getQuotedUserIDandScreenName(tweet))\n",
    "    \n",
    "    # Add mentions\n",
    "    interacting_users.update(getUserMentionsIDandScreenName(tweet))\n",
    "  \n",
    "    # remove the tweeter if he is in the set\n",
    "    interacting_users.discard(tweeter)\n",
    "    # remove the None case\n",
    "    interacting_users.discard((None,None))\n",
    "    \n",
    "    # Return our tweeter and their influencers\n",
    "    return tweeter, list(interacting_users)\n",
    "    \n"
   ]
  },
  {
   "cell_type": "code",
   "execution_count": null,
   "metadata": {
    "collapsed": false
   },
   "outputs": [],
   "source": [
    "print(getUserIDandScreenName(tweet))"
   ]
  },
  {
   "cell_type": "code",
   "execution_count": null,
   "metadata": {
    "collapsed": false
   },
   "outputs": [],
   "source": [
    "user is not None"
   ]
  },
  {
   "cell_type": "markdown",
   "metadata": {},
   "source": [
    "Let's build the network"
   ]
  },
  {
   "cell_type": "code",
   "execution_count": null,
   "metadata": {
    "collapsed": false
   },
   "outputs": [],
   "source": [
    "import networkx as nx\n",
    "\n",
    "# define an empty Directed Graph\n",
    "G = nx.DiGraph()\n",
    "\n",
    "# loop over all the tweets and add edges if the tweet include some interactions\n",
    "for tweet in tweet_list:\n",
    "    # find all influencers in the tweet\n",
    "    tweeter, interactions = getAllInteractions(tweet)\n",
    "    tweeter_id, tweeter_name = tweeter\n",
    "    \n",
    "    # add an edge to the Graph for each influencer\n",
    "    for interaction in interactions:\n",
    "        interact_id, interact_name = interaction\n",
    "        # add edges between the two user ids\n",
    "        G.add_edge(tweeter_id, interact_id)\n",
    "        # add name as a property to each node\n",
    "        # with networkX each node is a dictionary \n",
    "        G.node[tweeter_id]['name'] = tweeter_name\n",
    "        G.node[interact_id]['name'] = interact_name\n",
    "        "
   ]
  },
  {
   "cell_type": "code",
   "execution_count": null,
   "metadata": {
    "collapsed": false
   },
   "outputs": [],
   "source": [
    "G.number_of_nodes()"
   ]
  },
  {
   "cell_type": "code",
   "execution_count": null,
   "metadata": {
    "collapsed": false
   },
   "outputs": [],
   "source": [
    "G.node[472286193]"
   ]
  },
  {
   "cell_type": "code",
   "execution_count": null,
   "metadata": {
    "collapsed": false
   },
   "outputs": [],
   "source": [
    "G.degree(472286193)"
   ]
  },
  {
   "cell_type": "code",
   "execution_count": null,
   "metadata": {
    "collapsed": false
   },
   "outputs": [],
   "source": [
    "# average degree\n",
    "G.number_of_edges()/G.number_of_nodes()"
   ]
  },
  {
   "cell_type": "code",
   "execution_count": null,
   "metadata": {
    "collapsed": false
   },
   "outputs": [],
   "source": [
    "# maximum degree\n",
    "\n",
    "\n",
    "max([degree for node, degree in G.in_degree_iter()])"
   ]
  },
  {
   "cell_type": "code",
   "execution_count": null,
   "metadata": {
    "collapsed": false
   },
   "outputs": [],
   "source": [
    "degree_node_list = []\n",
    "for node in G.nodes_iter():\n",
    "    degree_node_list.append((node, G.node[node]['name'], G.degree(node)))\n",
    "    \n",
    "print(degree_node_list[:10])\n",
    "\n",
    "# sort the list according the degree in descinding order\n",
    "degree_node_list = sorted(degree_node_list, key=lambda x:x[2], reverse=True)\n",
    "print(degree_node_list[:10])"
   ]
  },
  {
   "cell_type": "code",
   "execution_count": null,
   "metadata": {
    "collapsed": false
   },
   "outputs": [],
   "source": [
    "import matplotlib.pyplot as plt\n",
    "%matplotlib inline"
   ]
  },
  {
   "cell_type": "code",
   "execution_count": null,
   "metadata": {
    "collapsed": true
   },
   "outputs": [],
   "source": [
    "components = nx.weakly_connected_components(G)"
   ]
  },
  {
   "cell_type": "code",
   "execution_count": null,
   "metadata": {
    "collapsed": false
   },
   "outputs": [],
   "source": [
    "components"
   ]
  },
  {
   "cell_type": "code",
   "execution_count": null,
   "metadata": {
    "collapsed": false
   },
   "outputs": [],
   "source": [
    "comp_sizes = []\n",
    "for comp in components:\n",
    "    comp_sizes.append(len(comp))"
   ]
  },
  {
   "cell_type": "code",
   "execution_count": null,
   "metadata": {
    "collapsed": false
   },
   "outputs": [],
   "source": [
    "hist = plt.hist(comp_sizes, bins=100)"
   ]
  },
  {
   "cell_type": "code",
   "execution_count": null,
   "metadata": {
    "collapsed": false
   },
   "outputs": [],
   "source": [
    "hist = plt.hist(comp_sizes, bins=100, log=True)"
   ]
  },
  {
   "cell_type": "code",
   "execution_count": null,
   "metadata": {
    "collapsed": false
   },
   "outputs": [],
   "source": [
    "components = nx.weakly_connected_components(G)\n",
    "largest_comp = list(sorted(components, key=lambda x:len(x), reverse=True))[0]"
   ]
  },
  {
   "cell_type": "code",
   "execution_count": null,
   "metadata": {
    "collapsed": false
   },
   "outputs": [],
   "source": [
    "len(largest_comp)"
   ]
  },
  {
   "cell_type": "code",
   "execution_count": null,
   "metadata": {
    "collapsed": false
   },
   "outputs": [],
   "source": [
    "LCC = G.subgraph(largest_comp)"
   ]
  },
  {
   "cell_type": "code",
   "execution_count": null,
   "metadata": {
    "collapsed": false
   },
   "outputs": [],
   "source": [
    "G.number_of_nodes()"
   ]
  },
  {
   "cell_type": "code",
   "execution_count": null,
   "metadata": {
    "collapsed": false
   },
   "outputs": [],
   "source": [
    "LCC.number_of_nodes()"
   ]
  },
  {
   "cell_type": "code",
   "execution_count": null,
   "metadata": {
    "collapsed": false
   },
   "outputs": [],
   "source": [
    "nx.draw_circular(LCC, node_size=1, alpha=0.7, linewidths=None, width=0.2)\n"
   ]
  },
  {
   "cell_type": "code",
   "execution_count": null,
   "metadata": {
    "collapsed": true
   },
   "outputs": [],
   "source": []
  },
  {
   "cell_type": "markdown",
   "metadata": {},
   "source": [
    "### Exercise: do the same for the Graph comprising only retweet, replies, quote and mentions"
   ]
  },
  {
   "cell_type": "code",
   "execution_count": null,
   "metadata": {
    "collapsed": true
   },
   "outputs": [],
   "source": []
  }
 ],
 "metadata": {
  "anaconda-cloud": {},
  "kernelspec": {
   "display_name": "Python [graphtool_compile]",
   "language": "python",
   "name": "Python [graphtool_compile]"
  },
  "language_info": {
   "codemirror_mode": {
    "name": "ipython",
    "version": 3
   },
   "file_extension": ".py",
   "mimetype": "text/x-python",
   "name": "python",
   "nbconvert_exporter": "python",
   "pygments_lexer": "ipython3",
   "version": "3.5.2"
  }
 },
 "nbformat": 4,
 "nbformat_minor": 2
}
