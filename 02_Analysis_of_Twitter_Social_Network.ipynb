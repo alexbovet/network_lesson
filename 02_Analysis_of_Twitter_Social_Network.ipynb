{
 "cells": [
  {
   "cell_type": "markdown",
   "metadata": {},
   "source": [
    "# Analysis of a Twitter Social Network\n",
    "\n",
    "In this section we are going to parse the tweets we collected and build the social network of interactions between Twitter users. We will also see how to analyze the network using NetworkX.\n",
    "\n",
    "## Parsing tweets\n",
    "\n",
    "Tweets are saved in JSON format ([JavaScript Object Notation](https://www.w3schools.com/js/js_json_intro.asp))\n",
    "JSON is text, written with JavaScript object notation.\n",
    "\n",
    "The `json` python module allows to easily import json file into python [Dictonairies](https://docs.python.org/3/tutorial/datastructures.html#dictionaries)\n",
    "\n"
   ]
  },
  {
   "cell_type": "code",
   "execution_count": 8,
   "metadata": {
    "collapsed": true
   },
   "outputs": [],
   "source": [
    "#load tweets \n",
    "\n",
    "import json\n",
    "\n",
    "filename = 'trumpTweets3.txt'\n",
    "\n",
    "tweet_list = []\n",
    "\n",
    "with open(filename, 'r') as fopen:\n",
    "    # each line correspond to a tweet\n",
    "    for line in fopen:\n",
    "        if line != '\\n':\n",
    "            tweet_list.append(json.loads(line))\n",
    "        "
   ]
  },
  {
   "cell_type": "markdown",
   "metadata": {},
   "source": [
    "Let's look at the informations contained in a tweet"
   ]
  },
  {
   "cell_type": "code",
   "execution_count": 9,
   "metadata": {
    "collapsed": false
   },
   "outputs": [],
   "source": [
    "# take the first tweet of the list\n",
    "tweet = tweet_list[2]"
   ]
  },
  {
   "cell_type": "code",
   "execution_count": 10,
   "metadata": {
    "collapsed": false
   },
   "outputs": [
    {
     "data": {
      "text/plain": [
       "dict"
      ]
     },
     "execution_count": 10,
     "metadata": {},
     "output_type": "execute_result"
    }
   ],
   "source": [
    "# each tweet is a python dictionary\n",
    "type(tweet)"
   ]
  },
  {
   "cell_type": "code",
   "execution_count": 11,
   "metadata": {
    "collapsed": false
   },
   "outputs": [
    {
     "data": {
      "text/plain": [
       "dict_keys(['created_at', 'id', 'id_str', 'text', 'source', 'truncated', 'in_reply_to_status_id', 'in_reply_to_status_id_str', 'in_reply_to_user_id', 'in_reply_to_user_id_str', 'in_reply_to_screen_name', 'user', 'geo', 'coordinates', 'place', 'contributors', 'retweeted_status', 'is_quote_status', 'retweet_count', 'favorite_count', 'entities', 'favorited', 'retweeted', 'filter_level', 'lang', 'timestamp_ms'])"
      ]
     },
     "execution_count": 11,
     "metadata": {},
     "output_type": "execute_result"
    }
   ],
   "source": [
    "# all the 'entries' of the dictionary\n",
    "tweet.keys()"
   ]
  },
  {
   "cell_type": "markdown",
   "metadata": {},
   "source": [
    "you can find a description of the fields in the Twitter API documentation: https://dev.twitter.com/overview/api/tweets"
   ]
  },
  {
   "cell_type": "code",
   "execution_count": 12,
   "metadata": {
    "collapsed": false
   },
   "outputs": [
    {
     "data": {
      "text/plain": [
       "'Thu Apr 27 17:54:29 +0000 2017'"
      ]
     },
     "execution_count": 12,
     "metadata": {},
     "output_type": "execute_result"
    }
   ],
   "source": [
    "#creation time\n",
    "tweet['created_at']"
   ]
  },
  {
   "cell_type": "code",
   "execution_count": 13,
   "metadata": {
    "collapsed": false
   },
   "outputs": [
    {
     "name": "stdout",
     "output_type": "stream",
     "text": [
      "RT @SenWarren: .@realDonaldTrump ran 4 companies through bankruptcy. Now he plans to bankrupt our country.\n"
     ]
    }
   ],
   "source": [
    "# text of the tweet\n",
    "print(tweet['text'])"
   ]
  },
  {
   "cell_type": "code",
   "execution_count": 14,
   "metadata": {
    "collapsed": false
   },
   "outputs": [
    {
     "data": {
      "text/plain": [
       "{'contributors_enabled': False,\n",
       " 'created_at': 'Fri Jul 29 20:11:47 +0000 2011',\n",
       " 'default_profile': False,\n",
       " 'default_profile_image': False,\n",
       " 'description': 'Proud Liberal and Progressive raised in the sticks by The Greatest Generation Grandparents to respect all people, work hard and look out for your fellow man.',\n",
       " 'favourites_count': 2649,\n",
       " 'follow_request_sent': None,\n",
       " 'followers_count': 112,\n",
       " 'following': None,\n",
       " 'friends_count': 612,\n",
       " 'geo_enabled': False,\n",
       " 'id': 344926679,\n",
       " 'id_str': '344926679',\n",
       " 'is_translator': False,\n",
       " 'lang': 'en',\n",
       " 'listed_count': 0,\n",
       " 'location': 'Shelbyville, Mo',\n",
       " 'name': 'Shana Hicks',\n",
       " 'notifications': None,\n",
       " 'profile_background_color': 'FFF04D',\n",
       " 'profile_background_image_url': 'http://abs.twimg.com/images/themes/theme19/bg.gif',\n",
       " 'profile_background_image_url_https': 'https://abs.twimg.com/images/themes/theme19/bg.gif',\n",
       " 'profile_background_tile': False,\n",
       " 'profile_image_url': 'http://pbs.twimg.com/profile_images/846725656113303553/4Zv7VUuq_normal.jpg',\n",
       " 'profile_image_url_https': 'https://pbs.twimg.com/profile_images/846725656113303553/4Zv7VUuq_normal.jpg',\n",
       " 'profile_link_color': '0099CC',\n",
       " 'profile_sidebar_border_color': 'FFF8AD',\n",
       " 'profile_sidebar_fill_color': 'F6FFD1',\n",
       " 'profile_text_color': '333333',\n",
       " 'profile_use_background_image': True,\n",
       " 'protected': False,\n",
       " 'screen_name': 'HicksShana',\n",
       " 'statuses_count': 4588,\n",
       " 'time_zone': None,\n",
       " 'url': None,\n",
       " 'utc_offset': None,\n",
       " 'verified': False}"
      ]
     },
     "execution_count": 14,
     "metadata": {},
     "output_type": "execute_result"
    }
   ],
   "source": [
    "# user info\n",
    "tweet['user']"
   ]
  },
  {
   "cell_type": "code",
   "execution_count": 15,
   "metadata": {
    "collapsed": false
   },
   "outputs": [
    {
     "name": "stdout",
     "output_type": "stream",
     "text": [
      "<class 'dict'>\n"
     ]
    },
    {
     "data": {
      "text/plain": [
       "'Shana Hicks'"
      ]
     },
     "execution_count": 15,
     "metadata": {},
     "output_type": "execute_result"
    }
   ],
   "source": [
    "# user is itslef a dict\n",
    "print(type(tweet['user']))\n",
    "\n",
    "tweet['user']['name']"
   ]
  },
  {
   "cell_type": "code",
   "execution_count": 16,
   "metadata": {
    "collapsed": false
   },
   "outputs": [
    {
     "data": {
      "text/plain": [
       "344926679"
      ]
     },
     "execution_count": 16,
     "metadata": {},
     "output_type": "execute_result"
    }
   ],
   "source": [
    "# unique id of the user\n",
    "tweet['user']['id']"
   ]
  },
  {
   "cell_type": "code",
   "execution_count": 17,
   "metadata": {
    "collapsed": false
   },
   "outputs": [
    {
     "data": {
      "text/plain": [
       "True"
      ]
     },
     "execution_count": 17,
     "metadata": {},
     "output_type": "execute_result"
    }
   ],
   "source": [
    "#is the tweet a retweet?\n",
    "'retweeted_status' in tweet"
   ]
  },
  {
   "cell_type": "code",
   "execution_count": 18,
   "metadata": {
    "collapsed": false
   },
   "outputs": [
    {
     "name": "stdout",
     "output_type": "stream",
     "text": [
      "{'created_at': 'Thu Apr 27 17:35:04 +0000 2017', 'id': 857649309420072966, 'id_str': '857649309420072966', 'text': '.@realDonaldTrump ran 4 companies through bankruptcy. Now he plans to bankrupt our country.', 'source': '<a href=\"http://twitter.com\" rel=\"nofollow\">Twitter Web Client</a>', 'truncated': False, 'in_reply_to_status_id': None, 'in_reply_to_status_id_str': None, 'in_reply_to_user_id': None, 'in_reply_to_user_id_str': None, 'in_reply_to_screen_name': None, 'user': {'id': 970207298, 'id_str': '970207298', 'name': 'Elizabeth Warren', 'screen_name': 'SenWarren', 'location': None, 'url': 'http://warren.senate.gov', 'description': 'Official twitter account of Senator Elizabeth Warren of Massachusetts.', 'protected': False, 'verified': True, 'followers_count': 2266186, 'friends_count': 259, 'listed_count': 11704, 'favourites_count': 7, 'statuses_count': 1869, 'created_at': 'Sun Nov 25 15:14:27 +0000 2012', 'utc_offset': -14400, 'time_zone': 'Eastern Time (US & Canada)', 'geo_enabled': False, 'lang': 'en', 'contributors_enabled': False, 'is_translator': False, 'profile_background_color': 'C0DEED', 'profile_background_image_url': 'http://abs.twimg.com/images/themes/theme1/bg.png', 'profile_background_image_url_https': 'https://abs.twimg.com/images/themes/theme1/bg.png', 'profile_background_tile': False, 'profile_link_color': '1DA1F2', 'profile_sidebar_border_color': 'C0DEED', 'profile_sidebar_fill_color': 'DDEEF6', 'profile_text_color': '333333', 'profile_use_background_image': True, 'profile_image_url': 'http://pbs.twimg.com/profile_images/722044174799777792/bXaodRhx_normal.jpg', 'profile_image_url_https': 'https://pbs.twimg.com/profile_images/722044174799777792/bXaodRhx_normal.jpg', 'default_profile': True, 'default_profile_image': False, 'following': None, 'follow_request_sent': None, 'notifications': None}, 'geo': None, 'coordinates': None, 'place': None, 'contributors': None, 'is_quote_status': False, 'retweet_count': 765, 'favorite_count': 1815, 'entities': {'hashtags': [], 'urls': [], 'user_mentions': [{'screen_name': 'realDonaldTrump', 'name': 'Donald J. Trump', 'id': 25073877, 'id_str': '25073877', 'indices': [1, 17]}], 'symbols': []}, 'favorited': False, 'retweeted': False, 'filter_level': 'low', 'lang': 'en'}\n"
     ]
    }
   ],
   "source": [
    "if 'retweeted_status' in tweet:\n",
    "    print(tweet['retweeted_status'])\n",
    "# the `retweeted_status` is also a tweet dictionary    "
   ]
  },
  {
   "cell_type": "code",
   "execution_count": 19,
   "metadata": {
    "collapsed": false
   },
   "outputs": [
    {
     "name": "stdout",
     "output_type": "stream",
     "text": [
      "970207298\n",
      "Elizabeth Warren\n"
     ]
    }
   ],
   "source": [
    "# user id and name of the retweeted user?\n",
    "if 'retweeted_status' in tweet:\n",
    "    print(tweet['retweeted_status']['user']['id'])\n",
    "    print(tweet['retweeted_status']['user']['name'])"
   ]
  },
  {
   "cell_type": "code",
   "execution_count": 20,
   "metadata": {
    "collapsed": false
   },
   "outputs": [
    {
     "data": {
      "text/plain": [
       "False"
      ]
     },
     "execution_count": 20,
     "metadata": {},
     "output_type": "execute_result"
    }
   ],
   "source": [
    "# is the tweet a reply?\n",
    "'in_reply_to_user_id' in tweet and tweet['in_reply_to_user_id'] is not None"
   ]
  },
  {
   "cell_type": "code",
   "execution_count": 21,
   "metadata": {
    "collapsed": false
   },
   "outputs": [
    {
     "data": {
      "text/plain": [
       "{'hashtags': [],\n",
       " 'symbols': [],\n",
       " 'urls': [],\n",
       " 'user_mentions': [{'id': 970207298,\n",
       "   'id_str': '970207298',\n",
       "   'indices': [3, 13],\n",
       "   'name': 'Elizabeth Warren',\n",
       "   'screen_name': 'SenWarren'},\n",
       "  {'id': 25073877,\n",
       "   'id_str': '25073877',\n",
       "   'indices': [16, 32],\n",
       "   'name': 'Donald J. Trump',\n",
       "   'screen_name': 'realDonaldTrump'}]}"
      ]
     },
     "execution_count": 21,
     "metadata": {},
     "output_type": "execute_result"
    }
   ],
   "source": [
    "# 'entities' contains the hashtags, urls and usernames used in the tweet\n",
    "tweet['entities']"
   ]
  },
  {
   "cell_type": "code",
   "execution_count": 22,
   "metadata": {
    "collapsed": false
   },
   "outputs": [
    {
     "name": "stdout",
     "output_type": "stream",
     "text": [
      "970207298\n",
      "25073877\n"
     ]
    }
   ],
   "source": [
    "# user id of the mentioned users\n",
    "for  mention in tweet['entities']['user_mentions']:\n",
    "    print(mention['id'])"
   ]
  },
  {
   "cell_type": "code",
   "execution_count": 23,
   "metadata": {
    "collapsed": false
   },
   "outputs": [
    {
     "data": {
      "text/plain": [
       "False"
      ]
     },
     "execution_count": 23,
     "metadata": {},
     "output_type": "execute_result"
    }
   ],
   "source": [
    "# is the tweet a quote?\n",
    "'quoted_status' in tweet"
   ]
  },
  {
   "cell_type": "markdown",
   "metadata": {},
   "source": [
    "# Building the network of interactions\n",
    "\n",
    "We will use the python module [`NetworkX`](https://networkx.readthedocs.io/en/stable/index.html) to construct and analyze the social network.\n",
    "\n",
    "A short introduction to networkx: https://github.com/networkx/notebooks\n"
   ]
  },
  {
   "cell_type": "markdown",
   "metadata": {},
   "source": [
    "There are four types of interactions between two users in Twitter:\n",
    "- Retweet\n",
    "- Quote\n",
    "- Reply\n",
    "- Mention"
   ]
  },
  {
   "cell_type": "code",
   "execution_count": 24,
   "metadata": {
    "collapsed": false
   },
   "outputs": [],
   "source": [
    "# let's define some functions to extract the interactions from tweets\n",
    "\n",
    "def getTweetID(tweet):\n",
    "    \"\"\" If properly included, get the ID of the tweet \"\"\"\n",
    "    return tweet.get('id')\n",
    "    \n",
    "def getUserIDandScreenName(tweet):\n",
    "    \"\"\" If properly included, get the tweet \n",
    "        user ID and Screen Name \"\"\"\n",
    "    user = tweet.get('user')\n",
    "    if user is not None:\n",
    "        uid = user.get('id')\n",
    "        screen_name = user.get('screen_name')\n",
    "        return uid, screen_name\n",
    "    else:\n",
    "        return (None, None)\n",
    "\n",
    "def getRetweetedUserIDandSreenName(tweet):\n",
    "    \"\"\" If properly included, get the retweet \n",
    "        source user ID and Screen Name\"\"\"\n",
    "    \n",
    "    retweet = tweet.get('retweeted_status')\n",
    "    if retweet is not None:\n",
    "        return getUserIDandScreenName(retweet)\n",
    "    else:\n",
    "        return (None, None)\n",
    "    \n",
    "def getRepliedUserIDandScreenName(tweet):\n",
    "    \"\"\" If properly included, get the ID and Screen Name \n",
    "        of the user the tweet replies to \"\"\"\n",
    "    \n",
    "    reply_id = tweet.get('in_reply_to_user_id')\n",
    "    reply_screenname = tweet.get('in_reply_to_screen_name')\n",
    "    return reply_id, reply_screenname\n",
    "    \n",
    "def getUserMentionsIDandScreenName(tweet):\n",
    "    \"\"\" If properly included, return a list of IDs and Screen Names tuple\n",
    "        of all user mentions, including retweeted and replied users \"\"\"\n",
    "        \n",
    "    mentions = []\n",
    "    entities = tweet.get('entities')\n",
    "    if entities is not None:\n",
    "        user_mentions = entities.get('user_mentions')\n",
    "        for mention in user_mentions:\n",
    "            mention_id = mention.get('id')\n",
    "            screen_name = mention.get('screen_name')\n",
    "            mentions.append((mention_id, screen_name))\n",
    "    \n",
    "    return mentions\n",
    "\n",
    "    \n",
    "def getQuotedUserIDandScreenName(tweet):\n",
    "    \"\"\" If properly included, get the ID of the user the tweet is quoting\"\"\"\n",
    "    \n",
    "    quoted_status = tweet.get('quoted_status')\n",
    "    \n",
    "    if quoted_status is not None:\n",
    "        return getUserIDandScreenName(quoted_status)\n",
    "    else:\n",
    "        return (None, None)\n",
    "    \n",
    "def getAllInteractions(tweet):\n",
    "    \"\"\" Get all the interactions from this tweet\n",
    "    \n",
    "        returns : (tweeter_id, tweeter_screenname), list of (interacting_id, interacting_screenname)\n",
    "    \"\"\"\n",
    "    \n",
    "    # Get the tweeter\n",
    "    tweeter = getUserIDandScreenName(tweet)\n",
    "    \n",
    "    # Nothing to do if we couldn't get the tweeter\n",
    "    if tweeter[0] is None:\n",
    "        return (None, None), []\n",
    "    \n",
    "    # a python set is a collection of unique items\n",
    "    # we use a set to avoid duplicated ids\n",
    "    interacting_users = set()\n",
    "    \n",
    "    # Add person they're replying to\n",
    "    interacting_users.add(getRepliedUserIDandScreenName(tweet))\n",
    "    \n",
    "    # Add person they retweeted\n",
    "    interacting_users.add(getRetweetedUserIDandSreenName(tweet))\n",
    "    \n",
    "    # Add person they quoted\n",
    "    interacting_users.add(getQuotedUserIDandScreenName(tweet))\n",
    "    \n",
    "    # Add mentions\n",
    "    interacting_users.update(getUserMentionsIDandScreenName(tweet))\n",
    "  \n",
    "    # remove the tweeter if he is in the set\n",
    "    interacting_users.discard(tweeter)\n",
    "    # remove the None case\n",
    "    interacting_users.discard((None,None))\n",
    "    \n",
    "    # Return our tweeter and their influencers\n",
    "    return tweeter, list(interacting_users)\n",
    "    \n"
   ]
  },
  {
   "cell_type": "code",
   "execution_count": 25,
   "metadata": {
    "collapsed": false
   },
   "outputs": [
    {
     "name": "stdout",
     "output_type": "stream",
     "text": [
      "(344926679, 'HicksShana')\n",
      "((344926679, 'HicksShana'), [(25073877, 'realDonaldTrump'), (970207298, 'SenWarren')])\n"
     ]
    }
   ],
   "source": [
    "print(getUserIDandScreenName(tweet))\n",
    "print(getAllInteractions(tweet))"
   ]
  },
  {
   "cell_type": "markdown",
   "metadata": {},
   "source": [
    "#### Let's build the network"
   ]
  },
  {
   "cell_type": "code",
   "execution_count": 26,
   "metadata": {
    "collapsed": false
   },
   "outputs": [],
   "source": [
    "import networkx as nx\n",
    "\n",
    "# define an empty Directed Graph\n",
    "# A directed graph is a graph where edges have a direction\n",
    "# in our case the edges goes from user that sent the tweet to\n",
    "# the user with whom they interacted (retweeted, mentioned or quoted)\n",
    "G = nx.DiGraph()\n",
    "\n",
    "# loop over all the tweets and add edges if the tweet include some interactions\n",
    "for tweet in tweet_list:\n",
    "    # find all influencers in the tweet\n",
    "    tweeter, interactions = getAllInteractions(tweet)\n",
    "    tweeter_id, tweeter_name = tweeter\n",
    "    \n",
    "    # add an edge to the Graph for each influencer\n",
    "    for interaction in interactions:\n",
    "        interact_id, interact_name = interaction\n",
    "        \n",
    "        # add edges between the two user ids\n",
    "        # this will create new nodes if the nodes are not already in the network\n",
    "        G.add_edge(tweeter_id, interact_id)\n",
    "        \n",
    "        # add name as a property to each node\n",
    "        # with networkX each node is a dictionary\n",
    "        G.node[tweeter_id]['name'] = tweeter_name\n",
    "        G.node[interact_id]['name'] = interact_name\n",
    "        "
   ]
  },
  {
   "cell_type": "code",
   "execution_count": 27,
   "metadata": {
    "collapsed": false
   },
   "outputs": [
    {
     "name": "stdout",
     "output_type": "stream",
     "text": [
      "<class 'dict'>\n"
     ]
    }
   ],
   "source": [
    "# The graph's node are contained in a dictionary \n",
    "print(type(G.node))\n"
   ]
  },
  {
   "cell_type": "code",
   "execution_count": 28,
   "metadata": {
    "collapsed": false
   },
   "outputs": [
    {
     "name": "stdout",
     "output_type": "stream",
     "text": [
      "{'name': 'sjporter51'}\n"
     ]
    }
   ],
   "source": [
    "#print(G.node.keys())\n",
    "# the keys are the user_id\n",
    "print(G.node[tweeter_id])\n"
   ]
  },
  {
   "cell_type": "code",
   "execution_count": 29,
   "metadata": {
    "collapsed": false
   },
   "outputs": [
    {
     "name": "stdout",
     "output_type": "stream",
     "text": [
      "<class 'dict'>\n"
     ]
    }
   ],
   "source": [
    "# each node is itself a dictionary with node attributes as key,value pairs\n",
    "print(type(G.node[tweeter_id]))"
   ]
  },
  {
   "cell_type": "code",
   "execution_count": 30,
   "metadata": {
    "collapsed": false
   },
   "outputs": [
    {
     "name": "stdout",
     "output_type": "stream",
     "text": [
      "<class 'dict'>\n"
     ]
    }
   ],
   "source": [
    "# edges are also contained in a dictionary\n",
    "print(type(G.edge))\n"
   ]
  },
  {
   "cell_type": "code",
   "execution_count": 31,
   "metadata": {
    "collapsed": false
   },
   "outputs": [
    {
     "name": "stdout",
     "output_type": "stream",
     "text": [
      "{25073877: {}, 970207298: {}}\n"
     ]
    }
   ],
   "source": [
    "# we can see all the edges going out of this node\n",
    "# each edge is a dictionary inside this dictionary with a key \n",
    "# corresponding to the target user_id\n",
    "print(G.edge[tweeter_id])"
   ]
  },
  {
   "cell_type": "code",
   "execution_count": 32,
   "metadata": {
    "collapsed": false
   },
   "outputs": [
    {
     "data": {
      "text/plain": [
       "{}"
      ]
     },
     "execution_count": 32,
     "metadata": {},
     "output_type": "execute_result"
    }
   ],
   "source": [
    "# so we can access the edge using the source user_id and the target user_id\n",
    "G.edge[tweeter_id][interact_id]"
   ]
  },
  {
   "cell_type": "markdown",
   "metadata": {},
   "source": [
    "#### Some basic properties of the Network:"
   ]
  },
  {
   "cell_type": "code",
   "execution_count": 33,
   "metadata": {
    "collapsed": false
   },
   "outputs": [
    {
     "data": {
      "text/plain": [
       "2805"
      ]
     },
     "execution_count": 33,
     "metadata": {},
     "output_type": "execute_result"
    }
   ],
   "source": [
    "G.number_of_nodes()"
   ]
  },
  {
   "cell_type": "code",
   "execution_count": 34,
   "metadata": {
    "collapsed": false
   },
   "outputs": [
    {
     "data": {
      "text/plain": [
       "3064"
      ]
     },
     "execution_count": 34,
     "metadata": {},
     "output_type": "execute_result"
    }
   ],
   "source": [
    "G.number_of_edges()"
   ]
  },
  {
   "cell_type": "code",
   "execution_count": 35,
   "metadata": {
    "collapsed": false
   },
   "outputs": [
    {
     "data": {
      "text/plain": [
       "[95689285, 25073877, 19781705]"
      ]
     },
     "execution_count": 35,
     "metadata": {},
     "output_type": "execute_result"
    }
   ],
   "source": [
    "# listing all nodes \n",
    "node_list = G.nodes()\n",
    "node_list[:3]"
   ]
  },
  {
   "cell_type": "code",
   "execution_count": 36,
   "metadata": {
    "collapsed": false
   },
   "outputs": [
    {
     "name": "stdout",
     "output_type": "stream",
     "text": [
      "1\n",
      "1\n",
      "0\n"
     ]
    }
   ],
   "source": [
    "# degree of a node\n",
    "print(G.degree(node_list[2]))\n",
    "print(G.in_degree(node_list[2]))\n",
    "print(G.out_degree(node_list[2]))"
   ]
  },
  {
   "cell_type": "code",
   "execution_count": 37,
   "metadata": {
    "collapsed": false
   },
   "outputs": [],
   "source": [
    "# dictionary with the degree of all nodes\n",
    "all_degrees = G.degree(node_list) # this is the degree for undirected edges\n",
    "in_degrees = G.in_degree(node_list)\n",
    "out_degrees = G.in_degree(node_list)"
   ]
  },
  {
   "cell_type": "code",
   "execution_count": 38,
   "metadata": {
    "collapsed": false
   },
   "outputs": [
    {
     "data": {
      "text/plain": [
       "2.184670231729055"
      ]
     },
     "execution_count": 38,
     "metadata": {},
     "output_type": "execute_result"
    }
   ],
   "source": [
    "# average degree\n",
    "2*G.number_of_edges()/G.number_of_nodes()"
   ]
  },
  {
   "cell_type": "code",
   "execution_count": 39,
   "metadata": {
    "collapsed": false
   },
   "outputs": [
    {
     "data": {
      "text/plain": [
       "2.1846702317290552"
      ]
     },
     "execution_count": 39,
     "metadata": {},
     "output_type": "execute_result"
    }
   ],
   "source": [
    "import numpy as np\n",
    "np.array(list(all_degrees.values())).mean()"
   ]
  },
  {
   "cell_type": "code",
   "execution_count": 40,
   "metadata": {
    "collapsed": false
   },
   "outputs": [
    {
     "data": {
      "text/plain": [
       "1.0923351158645276"
      ]
     },
     "execution_count": 40,
     "metadata": {},
     "output_type": "execute_result"
    }
   ],
   "source": [
    "np.array(list(in_degrees.values())).mean()"
   ]
  },
  {
   "cell_type": "code",
   "execution_count": 41,
   "metadata": {
    "collapsed": false
   },
   "outputs": [
    {
     "data": {
      "text/plain": [
       "1.0923351158645276"
      ]
     },
     "execution_count": 41,
     "metadata": {},
     "output_type": "execute_result"
    }
   ],
   "source": [
    "np.array(list(out_degrees.values())).mean()"
   ]
  },
  {
   "cell_type": "code",
   "execution_count": 42,
   "metadata": {
    "collapsed": false
   },
   "outputs": [
    {
     "data": {
      "text/plain": [
       "471"
      ]
     },
     "execution_count": 42,
     "metadata": {},
     "output_type": "execute_result"
    }
   ],
   "source": [
    "# maximum degree\n",
    "max(all_degrees.values())"
   ]
  },
  {
   "cell_type": "code",
   "execution_count": 43,
   "metadata": {
    "collapsed": false
   },
   "outputs": [
    {
     "name": "stdout",
     "output_type": "stream",
     "text": [
      "Unordered user, degree list\n",
      "[(95689285, 'iheartawkward', 3), (25073877, 'realDonaldTrump', 471), (19781705, 'achibrunette', 1), (736959136164806657, 'JacobAWohl', 1), (28488678, 'linadmd_', 12), (137794015, 'RepTedDeutch', 1), (822215679726100480, 'POTUS', 38), (2853309155, 'RepCurbelo', 1), (822957022467465216, 'MdeDefarge', 1), (344926679, 'HicksShana', 3)]\n",
      "Ordered user, degree list\n",
      "[(25073877, 'realDonaldTrump', 471), (970207298, 'SenWarren', 64), (30364057, 'SarahKSilverman', 57), (760125196007247872, 'patsfandove', 56), (2316383071, 'RVAwonk', 50), (32871086, 'kylegriffin1', 41), (822215679726100480, 'POTUS', 38), (36686040, 'MaxineWaters', 38), (19346439, 'LouiseMensch', 38), (818927131883356161, 'PressSec', 36)]\n"
     ]
    }
   ],
   "source": [
    "# we want to make a list with (user_id, username, degree) for all nodes\n",
    "degree_node_list = []\n",
    "for node in G.nodes_iter():\n",
    "    degree_node_list.append((node, G.node[node]['name'], G.degree(node)))\n",
    "    \n",
    "print('Unordered user, degree list')    \n",
    "print(degree_node_list[:10])\n",
    "\n",
    "# sort the list according the degree in descinding order\n",
    "degree_node_list = sorted(degree_node_list, key=lambda x:x[2], reverse=True)\n",
    "print('Ordered user, degree list')    \n",
    "print(degree_node_list[:10])"
   ]
  },
  {
   "cell_type": "code",
   "execution_count": 44,
   "metadata": {
    "collapsed": false
   },
   "outputs": [
    {
     "name": "stderr",
     "output_type": "stream",
     "text": [
      "/home/alex/anaconda/envs/networklessons/lib/python3.6/site-packages/matplotlib/__init__.py:917: UserWarning: axes.hold is deprecated. Please remove it from your matplotlibrc and/or style files.\n",
      "  warnings.warn(self.msg_depr_set % key)\n",
      "/home/alex/anaconda/envs/networklessons/lib/python3.6/site-packages/matplotlib/rcsetup.py:152: UserWarning: axes.hold is deprecated, will be removed in 3.0\n",
      "  warnings.warn(\"axes.hold is deprecated, will be removed in 3.0\")\n",
      "/home/alex/anaconda/envs/networklessons/lib/python3.6/site-packages/matplotlib/__init__.py:913: UserWarning: axes.color_cycle is deprecated and replaced with axes.prop_cycle; please use the latter.\n",
      "  warnings.warn(self.msg_depr % (key, alt_key))\n"
     ]
    }
   ],
   "source": [
    "# we need to import matplolib for making plots\n",
    "# and numpy for numerical computations\n",
    "import numpy as np\n",
    "import matplotlib.pyplot as plt\n",
    "%matplotlib inline"
   ]
  },
  {
   "cell_type": "markdown",
   "metadata": {},
   "source": [
    "### Network components\n",
    "\n",
    "For **directed** graphs we can define two types of components:\n",
    "- Weakly connected components\n",
    "- Strongly connected components\n",
    "\n",
    "Weakly connected component (WCC): maximal set of nodes where there exists a path in at least one direction between each pair of nodes.\n",
    "\n",
    "Strongly connected component (SCC): maximal set of nodes where there exists a path in both directions between each pair of nodes.\n",
    "\n",
    "Weakly connected giant (largest) component (WCGC): Largest WCC\n",
    "Strongly connected giant (largest) component (SCGC): Largest SCC\n",
    "\n",
    "<img src=\"network_components.svg\" style=\"width: 250px;\"/>"
   ]
  },
  {
   "cell_type": "code",
   "execution_count": 45,
   "metadata": {
    "collapsed": true
   },
   "outputs": [],
   "source": [
    "# this returns a list of set of nodes belonging to the \n",
    "# different (weakly) connected components\n",
    "components = list(nx.weakly_connected_components(G))\n",
    "\n",
    "# sort the component according to their size\n",
    "components = list(sorted(components, key=lambda x:len(x), reverse=True))"
   ]
  },
  {
   "cell_type": "code",
   "execution_count": 46,
   "metadata": {
    "collapsed": false
   },
   "outputs": [],
   "source": [
    "# make a list with the size of each component\n",
    "comp_sizes = []\n",
    "for comp in components:\n",
    "    comp_sizes.append(len(comp))"
   ]
  },
  {
   "cell_type": "code",
   "execution_count": 47,
   "metadata": {
    "collapsed": false
   },
   "outputs": [
    {
     "data": {
      "image/png": "[encoded data removed]",
      "text/plain": [
       "<matplotlib.figure.Figure at 0x7f07d1cc1a90>"
      ]
     },
     "metadata": {},
     "output_type": "display_data"
    }
   ],
   "source": [
    "# plot the histogram of component sizes\n",
    "hist = plt.hist(comp_sizes, bins=100)"
   ]
  },
  {
   "cell_type": "code",
   "execution_count": 48,
   "metadata": {
    "collapsed": false
   },
   "outputs": [
    {
     "data": {
      "text/plain": [
       "<matplotlib.text.Text at 0x7f07d1b46438>"
      ]
     },
     "execution_count": 48,
     "metadata": {},
     "output_type": "execute_result"
    },
    {
     "data": {
      "image/png": "[encoded data removed]",
      "text/plain": [
       "<matplotlib.figure.Figure at 0x7f07d3697dd8>"
      ]
     },
     "metadata": {},
     "output_type": "display_data"
    }
   ],
   "source": [
    "# histogram with logarithmic y scale\n",
    "hist = plt.hist(comp_sizes, bins=100, log=True)\n",
    "plt.xlabel('component size')\n",
    "plt.ylabel('number of components')"
   ]
  },
  {
   "cell_type": "code",
   "execution_count": 49,
   "metadata": {
    "collapsed": false
   },
   "outputs": [
    {
     "data": {
      "text/plain": [
       "[1751, 66, 13, 12, 11, 10, 9, 9, 8, 8]"
      ]
     },
     "execution_count": 49,
     "metadata": {},
     "output_type": "execute_result"
    }
   ],
   "source": [
    "# sizes of the ten largest components\n",
    "comp_sizes[:10]"
   ]
  },
  {
   "cell_type": "code",
   "execution_count": 50,
   "metadata": {
    "collapsed": false
   },
   "outputs": [],
   "source": [
    "# let's make a new graph which is the subgraph of G corresponding to \n",
    "# the largest connected component\n",
    "# let's find the largest component\n",
    "largest_comp = components[0]\n",
    "LCC = G.subgraph(largest_comp)"
   ]
  },
  {
   "cell_type": "code",
   "execution_count": 51,
   "metadata": {
    "collapsed": false
   },
   "outputs": [
    {
     "data": {
      "text/plain": [
       "2805"
      ]
     },
     "execution_count": 51,
     "metadata": {},
     "output_type": "execute_result"
    }
   ],
   "source": [
    "G.number_of_nodes()"
   ]
  },
  {
   "cell_type": "code",
   "execution_count": 52,
   "metadata": {
    "collapsed": false
   },
   "outputs": [
    {
     "data": {
      "text/plain": [
       "1751"
      ]
     },
     "execution_count": 52,
     "metadata": {},
     "output_type": "execute_result"
    }
   ],
   "source": [
    "LCC.number_of_nodes()"
   ]
  },
  {
   "cell_type": "code",
   "execution_count": 53,
   "metadata": {
    "collapsed": false
   },
   "outputs": [
    {
     "data": {
      "text/plain": [
       "{813551159449370624: 2,\n",
       " 736959136164806657: 1,\n",
       " 853880817894006784: 10,\n",
       " 718823631137079299: 3,\n",
       " 822665057586839554: 4,\n",
       " 708891781820063749: 2,\n",
       " 819259783333183488: 1,\n",
       " 706719971196411904: 1,\n",
       " 756570726962896896: 3,\n",
       " 819812292325875712: 4,\n",
       " 781254430729576449: 1,\n",
       " 719328080808910850: 1,\n",
       " 12: 1,\n",
       " 829866626136809477: 2,\n",
       " 802259419190951941: 3,\n",
       " 827258161841135623: 1,\n",
       " 75939860: 7,\n",
       " 2863996955: 7,\n",
       " 1692639260: 1,\n",
       " 90890267: 1,\n",
       " 15220768: 34,\n",
       " 1344938022: 1,\n",
       " 2933760046: 2,\n",
       " 343048239: 1,\n",
       " 47095857: 1,\n",
       " 26869816: 2,\n",
       " 21315649: 2,\n",
       " 821815758502170624: 1,\n",
       " 836941039399276544: 1,\n",
       " 816686583365701632: 1,\n",
       " 2895200341: 2,\n",
       " 399745111: 1,\n",
       " 2549121116: 1,\n",
       " 21258337: 1,\n",
       " 16146535: 1,\n",
       " 1033838696: 3,\n",
       " 3110461544: 2,\n",
       " 2316345455: 1,\n",
       " 2734768242: 1,\n",
       " 539525235: 2,\n",
       " 463061109: 2,\n",
       " 441434232: 1,\n",
       " 25419899: 1,\n",
       " 120946813: 1,\n",
       " 4834607230: 1,\n",
       " 803600791261024256: 3,\n",
       " 796771522002161664: 1,\n",
       " 784849040408186880: 1,\n",
       " 825113050667683840: 2,\n",
       " 100647041: 1,\n",
       " 824064671472816129: 1,\n",
       " 728244260902932481: 1,\n",
       " 825166422707933185: 2,\n",
       " 750282011160481792: 5,\n",
       " 48038024: 2,\n",
       " 732746539836248066: 1,\n",
       " 2312233100: 3,\n",
       " 391069836: 2,\n",
       " 1398759560: 2,\n",
       " 3832520839: 4,\n",
       " 3706994834: 3,\n",
       " 109478035: 2,\n",
       " 760630418714529796: 2,\n",
       " 569163929: 4,\n",
       " 3035873445: 2,\n",
       " 19546277: 1,\n",
       " 816370398593855488: 4,\n",
       " 25215176: 2,\n",
       " 30482639: 1,\n",
       " 393969873: 1,\n",
       " 389546201: 1,\n",
       " 7004382: 2,\n",
       " 230883557: 1,\n",
       " 17080557: 1,\n",
       " 2841157869: 1,\n",
       " 4091551984: 3,\n",
       " 27754737: 1,\n",
       " 16507122: 2,\n",
       " 30572788: 1,\n",
       " 18661620: 1,\n",
       " 749337494173261824: 1,\n",
       " 788392607692890112: 3,\n",
       " 718149456269418496: 1,\n",
       " 750646483808952321: 2,\n",
       " 20488455: 2,\n",
       " 767004701158023169: 3,\n",
       " 29442313: 28,\n",
       " 713705826154717185: 2,\n",
       " 17907987: 1,\n",
       " 22929686: 4,\n",
       " 63013144: 1,\n",
       " 1146986779: 1,\n",
       " 2916106529: 1,\n",
       " 13115682: 1,\n",
       " 3927572774: 1,\n",
       " 138961191: 1,\n",
       " 275276082: 1,\n",
       " 23970102: 1,\n",
       " 22438200: 3,\n",
       " 954048834: 1,\n",
       " 476995907: 1,\n",
       " 2569896261: 1,\n",
       " 22036809: 2,\n",
       " 498680137: 1,\n",
       " 472580427: 1,\n",
       " 15745368: 7,\n",
       " 15065434: 11,\n",
       " 14811485: 3,\n",
       " 2889924959: 18,\n",
       " 102211940: 1,\n",
       " 637272422: 2,\n",
       " 58720622: 2,\n",
       " 29737330: 1,\n",
       " 826261876447260672: 3,\n",
       " 837134751660126208: 1,\n",
       " 1312055700: 2,\n",
       " 115073436: 1,\n",
       " 2743599519: 2,\n",
       " 72532383: 5,\n",
       " 26575267: 2,\n",
       " 4397990308: 1,\n",
       " 44335525: 1,\n",
       " 184648103: 1,\n",
       " 234627506: 2,\n",
       " 2423439805: 1,\n",
       " 357581251: 1,\n",
       " 2470101446: 1,\n",
       " 142926289: 5,\n",
       " 1699742162: 2,\n",
       " 18366940: 2,\n",
       " 63652318: 1,\n",
       " 20586976: 1,\n",
       " 760093504894894080: 2,\n",
       " 821128525499564032: 1,\n",
       " 29188590: 4,\n",
       " 137978360: 1,\n",
       " 340566528: 1,\n",
       " 800812722816303104: 1,\n",
       " 822924370427265024: 2,\n",
       " 807079262087823360: 2,\n",
       " 823291172458086400: 1,\n",
       " 2209997318: 1,\n",
       " 822863585239908353: 2,\n",
       " 50086411: 1,\n",
       " 34808353: 1,\n",
       " 116359717: 1,\n",
       " 20939307: 2,\n",
       " 148529707: 4,\n",
       " 4136870452: 1,\n",
       " 108708410: 1,\n",
       " 1271054906: 1,\n",
       " 1933222459: 2,\n",
       " 425534018: 1,\n",
       " 85885510: 1,\n",
       " 24470087: 1,\n",
       " 713839291210792960: 1,\n",
       " 19030622: 1,\n",
       " 3129508451: 1,\n",
       " 281838182: 3,\n",
       " 29893227: 6,\n",
       " 12788332: 1,\n",
       " 178053745: 1,\n",
       " 14344823: 1,\n",
       " 2411979386: 2,\n",
       " 2229273212: 2,\n",
       " 739317095566036992: 4,\n",
       " 17408645: 3,\n",
       " 4637819528: 3,\n",
       " 834926113084297218: 7,\n",
       " 130867852: 1,\n",
       " 16843404: 2,\n",
       " 450732687: 1,\n",
       " 269992592: 2,\n",
       " 38494872: 1,\n",
       " 4825957018: 1,\n",
       " 15983266: 4,\n",
       " 23102114: 1,\n",
       " 801055404: 2,\n",
       " 755835576: 5,\n",
       " 17138361: 2,\n",
       " 14418620: 1,\n",
       " 3302834886: 1,\n",
       " 2678506184: 3,\n",
       " 239502027: 2,\n",
       " 110297806: 2,\n",
       " 2323448533: 5,\n",
       " 1458266844: 1,\n",
       " 15368940: 1,\n",
       " 3852362478: 2,\n",
       " 85050094: 1,\n",
       " 2591294192: 1,\n",
       " 16638708: 1,\n",
       " 2208113397: 7,\n",
       " 22307579: 1,\n",
       " 830952732731138048: 1,\n",
       " 832088979528769536: 1,\n",
       " 34284291: 1,\n",
       " 829721450957266944: 1,\n",
       " 4480287492: 2,\n",
       " 833906047366488065: 1,\n",
       " 709057926216835074: 2,\n",
       " 382788364: 4,\n",
       " 2421080847: 1,\n",
       " 4707640082: 2,\n",
       " 52544275: 5,\n",
       " 4862042900: 1,\n",
       " 29967129: 2,\n",
       " 4680344354: 2,\n",
       " 1917731: 22,\n",
       " 394724132: 4,\n",
       " 14590764: 1,\n",
       " 2800419630: 1,\n",
       " 66495289: 1,\n",
       " 251667263: 1,\n",
       " 82510657: 1,\n",
       " 1128612673: 1,\n",
       " 190260040: 1,\n",
       " 20800328: 1,\n",
       " 1378296674: 2,\n",
       " 7848802: 1,\n",
       " 24806248: 5,\n",
       " 16581485: 4,\n",
       " 186065779: 1,\n",
       " 707699580: 1,\n",
       " 839619550727532544: 5,\n",
       " 831350581969186816: 1,\n",
       " 790919378116177920: 3,\n",
       " 833032249423589376: 2,\n",
       " 722401272905756672: 1,\n",
       " 833432825181401089: 2,\n",
       " 826155076280545280: 2,\n",
       " 720535265618587648: 1,\n",
       " 171598736: 3,\n",
       " 887030672: 1,\n",
       " 828006339733516292: 2,\n",
       " 248300454: 2,\n",
       " 4835238824: 3,\n",
       " 3303293865: 1,\n",
       " 70468535: 2,\n",
       " 18686907: 4,\n",
       " 15647676: 1,\n",
       " 373564351: 12,\n",
       " 192750527: 2,\n",
       " 253813697: 2,\n",
       " 31146947: 1,\n",
       " 3240788931: 5,\n",
       " 873587658: 1,\n",
       " 532603860: 2,\n",
       " 874628059: 7,\n",
       " 4787266529: 2,\n",
       " 273703910: 1,\n",
       " 263988199: 3,\n",
       " 149283816: 2,\n",
       " 2252162035: 2,\n",
       " 18187253: 2,\n",
       " 486237180: 1,\n",
       " 747891181338525696: 1,\n",
       " 278070278: 7,\n",
       " 3214214153: 2,\n",
       " 21341221: 2,\n",
       " 6177832: 1,\n",
       " 84632620: 1,\n",
       " 175711277: 1,\n",
       " 1005675566: 2,\n",
       " 18089007: 2,\n",
       " 91882544: 11,\n",
       " 2529158194: 2,\n",
       " 18973754: 1,\n",
       " 1086: 1,\n",
       " 1074480192: 1,\n",
       " 484779077: 3,\n",
       " 1109386315: 2,\n",
       " 18916432: 1,\n",
       " 3195987029: 4,\n",
       " 231154776: 1,\n",
       " 1585079384: 2,\n",
       " 22651995: 1,\n",
       " 22258798: 2,\n",
       " 379511927: 2,\n",
       " 163505280: 1,\n",
       " 3308192899: 2,\n",
       " 391562379: 2,\n",
       " 15164565: 8,\n",
       " 31122582: 2,\n",
       " 72623258: 6,\n",
       " 3433022621: 1,\n",
       " 828305228780953600: 1,\n",
       " 1890976934: 1,\n",
       " 3281085608: 1,\n",
       " 1709081772: 2,\n",
       " 11347122: 1,\n",
       " 168936644: 2,\n",
       " 22185158: 3,\n",
       " 1441227980: 2,\n",
       " 20776147: 5,\n",
       " 111133911: 1,\n",
       " 1209181404: 1,\n",
       " 2179007708: 1,\n",
       " 53503202: 8,\n",
       " 870565094: 1,\n",
       " 121816305: 1,\n",
       " 26838260: 2,\n",
       " 264422645: 1,\n",
       " 552019190: 4,\n",
       " 2585437435: 1,\n",
       " 865035517: 2,\n",
       " 823862528: 2,\n",
       " 804758133113397248: 2,\n",
       " 830169685635145728: 1,\n",
       " 822215679726100480: 38,\n",
       " 732049993863831552: 1,\n",
       " 818325925926313984: 1,\n",
       " 49161476: 1,\n",
       " 782001636260446208: 4,\n",
       " 824324958847279104: 1,\n",
       " 828808673572986880: 2,\n",
       " 838541709294215168: 1,\n",
       " 398959876: 2,\n",
       " 16041234: 10,\n",
       " 828074126266900484: 1,\n",
       " 4846765338: 2,\n",
       " 614688032: 1,\n",
       " 32974114: 4,\n",
       " 361800995: 2,\n",
       " 576734498: 1,\n",
       " 101754147: 1,\n",
       " 359417125: 2,\n",
       " 11134252: 6,\n",
       " 1357784377: 2,\n",
       " 2439177534: 2,\n",
       " 4513703234: 1,\n",
       " 14247236: 10,\n",
       " 464610633: 1,\n",
       " 1172645204: 1,\n",
       " 4828013916: 1,\n",
       " 1046209890: 2,\n",
       " 48383336: 1,\n",
       " 733975538289782784: 3,\n",
       " 4653278594: 2,\n",
       " 713457159401549824: 3,\n",
       " 855130577334349825: 1,\n",
       " 733724452912017409: 1,\n",
       " 849022359734452224: 1,\n",
       " 857651429393215489: 1,\n",
       " 848566676576710657: 7,\n",
       " 785177719474618368: 2,\n",
       " 2619196809: 1,\n",
       " 826999426958884864: 2,\n",
       " 167544198: 1,\n",
       " 773664641272643584: 1,\n",
       " 28788120: 1,\n",
       " 850727236281958401: 1,\n",
       " 300074405: 1,\n",
       " 471672239: 1,\n",
       " 246498739: 1,\n",
       " 114247101: 1,\n",
       " 54674879: 1,\n",
       " 1628284362: 1,\n",
       " 254117355: 1,\n",
       " 125232619: 1,\n",
       " 2908677620: 2,\n",
       " 1339835893: 2,\n",
       " 207504891: 1,\n",
       " 27493883: 1,\n",
       " 848563899464990720: 2,\n",
       " 1684178449: 2,\n",
       " 435111445: 1,\n",
       " 532456981: 1,\n",
       " 19834403: 4,\n",
       " 174859814: 1,\n",
       " 18630190: 1,\n",
       " 234374703: 3,\n",
       " 485541424: 1,\n",
       " 3394405942: 1,\n",
       " 55445051: 2,\n",
       " 346252863: 2,\n",
       " 47253057: 2,\n",
       " 15550022: 2,\n",
       " 1053271640: 1,\n",
       " 3098633816: 1,\n",
       " 3369977446: 2,\n",
       " 1639351914: 1,\n",
       " 805963374: 1,\n",
       " 109315699: 2,\n",
       " 2206328436: 2,\n",
       " 20817529: 3,\n",
       " 849288158097362944: 1,\n",
       " 857330822612963328: 1,\n",
       " 724245803812966400: 1,\n",
       " 18089606: 1,\n",
       " 351856276: 1,\n",
       " 19277467: 1,\n",
       " 517605023: 1,\n",
       " 1674315427: 4,\n",
       " 21489321: 2,\n",
       " 1135666861: 4,\n",
       " 298026684: 1,\n",
       " 47679177: 2,\n",
       " 17827531: 1,\n",
       " 363456217: 1,\n",
       " 48850671: 2,\n",
       " 2397136628: 3,\n",
       " 185329396: 1,\n",
       " 244844283: 2,\n",
       " 44959505: 2,\n",
       " 55396121: 2,\n",
       " 158426909: 12,\n",
       " 59909932: 1,\n",
       " 2293131060: 6,\n",
       " 2756896568: 3,\n",
       " 2626570042: 1,\n",
       " 167421762: 2,\n",
       " 29501253: 8,\n",
       " 465954632: 1,\n",
       " 9611082: 1,\n",
       " 20514637: 1,\n",
       " 870795086: 2,\n",
       " 2560059218: 1,\n",
       " 18122583: 1,\n",
       " 71567200: 1,\n",
       " 548693876: 3,\n",
       " 2922735484: 3,\n",
       " 52070270: 1,\n",
       " 803998433820471296: 2,\n",
       " 804538279471280128: 1,\n",
       " 39118722: 2,\n",
       " 788946033929809920: 4,\n",
       " 826574604093288448: 2,\n",
       " 823265281023864833: 1,\n",
       " 824028553067032576: 1,\n",
       " 802649176299466752: 1,\n",
       " 801850836334866433: 1,\n",
       " 810145084536713216: 1,\n",
       " 799764016885329921: 1,\n",
       " 823384095917010946: 2,\n",
       " 795672758344675330: 3,\n",
       " 774698847821893632: 2,\n",
       " 162350992: 2,\n",
       " 38029205: 20,\n",
       " 4508157853: 1,\n",
       " 41109410: 2,\n",
       " 302942119: 1,\n",
       " 545474475: 1,\n",
       " 1337271: 1,\n",
       " 477611969: 1,\n",
       " 2836421: 10,\n",
       " 2683471818: 5,\n",
       " 439928778: 1,\n",
       " 2467791: 13,\n",
       " 52750287: 1,\n",
       " 480135129: 2,\n",
       " 2464983006: 2,\n",
       " 16476132: 1,\n",
       " 225265639: 12,\n",
       " 2427750386: 1,\n",
       " 35014644: 2,\n",
       " 17016825: 2,\n",
       " 111159289: 1,\n",
       " 2892113915: 1,\n",
       " 742137549263536128: 5,\n",
       " 743925747685851136: 2,\n",
       " 736664723505086464: 7,\n",
       " 722793491059769344: 1,\n",
       " 740385903391080449: 2,\n",
       " 149751818: 1,\n",
       " 822660230068703233: 1,\n",
       " 16640037: 1,\n",
       " 281405477: 2,\n",
       " 429885479: 2,\n",
       " 418818087: 2,\n",
       " 767862828: 2,\n",
       " 1120323655: 3,\n",
       " 3688876115: 1,\n",
       " 2840660055: 2,\n",
       " 25077848: 2,\n",
       " 604309599: 2,\n",
       " 194349165: 1,\n",
       " 770080622127812608: 5,\n",
       " 822124776026214400: 1,\n",
       " 823226061207048192: 1,\n",
       " 839363550397272064: 1,\n",
       " 815912285529116672: 5,\n",
       " 824473943931293697: 1,\n",
       " 819437976635772928: 5,\n",
       " 796364609573818368: 1,\n",
       " 523700360: 2,\n",
       " 5744772: 2,\n",
       " 722202690005176322: 2,\n",
       " 297191567: 1,\n",
       " 299878544: 1,\n",
       " 2223286417: 1,\n",
       " 5695632: 4,\n",
       " 797448116039520260: 1,\n",
       " 3529844893: 1,\n",
       " 51259550: 2,\n",
       " 45983908: 2,\n",
       " 274860208: 3,\n",
       " 3400280253: 1,\n",
       " 1434101960: 1,\n",
       " 36686040: 38,\n",
       " 305318105: 1,\n",
       " 30877919: 3,\n",
       " 16074977: 1,\n",
       " 813286: 3,\n",
       " 298723573: 2,\n",
       " 975931639: 2,\n",
       " 289442042: 1,\n",
       " 2801961216: 1,\n",
       " 784725688091746304: 1,\n",
       " 755970: 2,\n",
       " 767484720724647936: 1,\n",
       " 798706468060995584: 1,\n",
       " 798240961834852352: 1,\n",
       " 810247630622105600: 2,\n",
       " 713094905552248832: 1,\n",
       " 704825605980758016: 1,\n",
       " 15976705: 24,\n",
       " 749668298984333312: 1,\n",
       " 22817038: 3,\n",
       " 59918615: 1,\n",
       " 47311134: 3,\n",
       " 61548835: 2,\n",
       " 51620138: 2,\n",
       " 368544047: 2,\n",
       " 17533234: 1,\n",
       " 1344022837: 1,\n",
       " 16812342: 3,\n",
       " 285657408: 1,\n",
       " 340404557: 3,\n",
       " 2472905046: 1,\n",
       " 942156122: 1,\n",
       " 2491517276: 2,\n",
       " 347982178: 2,\n",
       " 39627111: 1,\n",
       " 1500129642: 4,\n",
       " 177564016: 1,\n",
       " 1130244464: 1,\n",
       " 214428019: 1,\n",
       " 18139511: 1,\n",
       " 126085496: 1,\n",
       " 438847866: 3,\n",
       " 2922285437: 1,\n",
       " 26487169: 5,\n",
       " 836342513602605056: 2,\n",
       " 14084482: 1,\n",
       " 839198279363670017: 1,\n",
       " 41707924: 3,\n",
       " 819128285967843328: 2,\n",
       " 374679981: 3,\n",
       " 2692966834: 1,\n",
       " 15714742: 2,\n",
       " 60074423: 1,\n",
       " 906971582: 1,\n",
       " 395463103: 2,\n",
       " 604940737: 1,\n",
       " 108751302: 1,\n",
       " 123464143: 3,\n",
       " 344926679: 3,\n",
       " 121817564: 1,\n",
       " 3230198245: 2,\n",
       " 305654256: 2,\n",
       " 3409209845: 2,\n",
       " 471108085: 1,\n",
       " 801061185298710528: 1,\n",
       " 824305044191264768: 1,\n",
       " 20744708: 2,\n",
       " 73214471: 2,\n",
       " 28674574: 1,\n",
       " 4339608079: 1,\n",
       " 57100823: 2,\n",
       " 3677112861: 3,\n",
       " 266340907: 2,\n",
       " 1244408377: 1,\n",
       " 827402809: 2,\n",
       " 364415553: 2,\n",
       " 2957273668: 1,\n",
       " 16829008: 3,\n",
       " 1348053607: 1,\n",
       " 245688940: 3,\n",
       " 4925188717: 5,\n",
       " 1041058422: 1,\n",
       " 1477241472: 2,\n",
       " 819242866476273664: 1,\n",
       " 799641010699718656: 1,\n",
       " 813292471975366656: 1,\n",
       " 833414479832633344: 1,\n",
       " 841274502348754944: 2,\n",
       " 815615550558785537: 1,\n",
       " 796415894897512449: 2,\n",
       " 806190715168575488: 1,\n",
       " 794980547848261632: 2,\n",
       " 829860797492973569: 2,\n",
       " 832842341732012033: 1,\n",
       " 833097348146483202: 3,\n",
       " 824996554855632898: 1,\n",
       " 833352606319857666: 1,\n",
       " 23333519: 2,\n",
       " 1640835728: 1,\n",
       " 820344569527226370: 1,\n",
       " 790382180950220800: 1,\n",
       " 810888284318683140: 1,\n",
       " 815155162889277444: 1,\n",
       " 159009432: 1,\n",
       " 2821434011: 1,\n",
       " 196168350: 7,\n",
       " 1473637028: 2,\n",
       " 15731368: 2,\n",
       " 280201896: 1,\n",
       " 137308843: 3,\n",
       " 404130485: 1,\n",
       " 986999484: 2,\n",
       " 9890492: 1,\n",
       " 1650207420: 3,\n",
       " 14133964: 1,\n",
       " 33311436: 1,\n",
       " 214428368: 1,\n",
       " 41634520: 2,\n",
       " 287410913: 1,\n",
       " 2853309155: 1,\n",
       " 592046820: 6,\n",
       " 2334509797: 1,\n",
       " 44313316: 1,\n",
       " 36743910: 7,\n",
       " 490834665: 3,\n",
       " 17853161: 2,\n",
       " 2936507115: 8,\n",
       " 887892732: 3,\n",
       " 254462719: 1,\n",
       " 789240455141613568: 3,\n",
       " 833400627782836224: 2,\n",
       " 15723290: 1,\n",
       " 310012724: 1,\n",
       " 264219447: 1,\n",
       " 54438714: 1,\n",
       " 4304448314: 1,\n",
       " 61868863: 1,\n",
       " 784605452290158592: 4,\n",
       " 1317276487: 10,\n",
       " 74419021: 1,\n",
       " 18025295: 3,\n",
       " 146836304: 1,\n",
       " 620571475: 1,\n",
       " 3885681496: 2,\n",
       " 2262584153: 3,\n",
       " 2365672292: 1,\n",
       " 369699689: 1,\n",
       " 3173714800: 1,\n",
       " 1581370232: 2,\n",
       " 822275434574475264: 5,\n",
       " 822884866488496128: 1,\n",
       " 795885534690373632: 2,\n",
       " 823735251558166528: 3,\n",
       " 819901613531951104: 1,\n",
       " 4794182534: 1,\n",
       " 820030531832344577: 2,\n",
       " 4690856839: 1,\n",
       " 856901088477409280: 1,\n",
       " 819201830353858561: 2,\n",
       " 1901751181: 2,\n",
       " 2218167186: 4,\n",
       " 2987527060: 1,\n",
       " 273542042: 1,\n",
       " 824359737055735813: 1,\n",
       " 78523300: 2,\n",
       " 293850025: 2,\n",
       " 2319109040: 1,\n",
       " 1039264699: 10,\n",
       " 3139898299: 1,\n",
       " 30149570: 1,\n",
       " 870861764: 1,\n",
       " 3314461639: 1,\n",
       " 15182798: 1,\n",
       " 1435577306: 2,\n",
       " 1066855388: 2,\n",
       " 2844388317: 1,\n",
       " 431901670: 3,\n",
       " 385805299: 1,\n",
       " 2196655093: 1,\n",
       " 21974005: 2,\n",
       " 1209936918: 2,\n",
       " 1098615836: 2,\n",
       " 2885225505: 1,\n",
       " 16002085: 7,\n",
       " 262417459: 1,\n",
       " 700050488: 1,\n",
       " 221121595: 2,\n",
       " 16280644: 1,\n",
       " 3038194758: 1,\n",
       " 1428728923: 1,\n",
       " 23022687: 5,\n",
       " 635841637: 2,\n",
       " 404393063: 1,\n",
       " 17697901: 2,\n",
       " 769641584: 2,\n",
       " 615787633: 1,\n",
       " 62876792: 3,\n",
       " 1566772351: 1,\n",
       " 16444544: 2,\n",
       " 22080646: 3,\n",
       " 112782471: 5,\n",
       " 3114142856: 3,\n",
       " 420564106: 1,\n",
       " 525847693: 1,\n",
       " 2200235154: 1,\n",
       " 825000900192120832: 2,\n",
       " 854166718452609024: 1,\n",
       " 240454812: 4,\n",
       " 15764644: 12,\n",
       " 3436637351: 5,\n",
       " 2896350377: 1,\n",
       " 12774572: 1,\n",
       " 3046919341: 2,\n",
       " 177614012: 2,\n",
       " 1252764865: 3,\n",
       " 4310568136: 2,\n",
       " 187657428: 1,\n",
       " 108465379: 1,\n",
       " 472624357: 1,\n",
       " 408816873: 2,\n",
       " 15207668: 4,\n",
       " 83668232: 2,\n",
       " 2727791899: 1,\n",
       " 27995424: 1,\n",
       " 14159148: 1,\n",
       " 3046927667: 1,\n",
       " 90303796: 3,\n",
       " 611839288: 1,\n",
       " 4361653577: 1,\n",
       " 147262794: 1,\n",
       " 22203756: 1,\n",
       " 3725831532: 2,\n",
       " 29060472: 1,\n",
       " 851136295976022016: 4,\n",
       " 64277889: 2,\n",
       " 23317891: 3,\n",
       " 850102919835922433: 2,\n",
       " 3103198606: 10,\n",
       " 91737487: 1,\n",
       " 14839184: 1,\n",
       " 59936143: 1,\n",
       " 3430616477: 1,\n",
       " 20123047: 1,\n",
       " 1206078902: 1,\n",
       " 459517377: 1,\n",
       " 263269829: 1,\n",
       " 2565303782: 3,\n",
       " 2783718889: 2,\n",
       " 172838388: 3,\n",
       " 755953153: 10,\n",
       " 1347857924: 1,\n",
       " 300994053: 2,\n",
       " 841349976550653953: 3,\n",
       " 185314825: 3,\n",
       " 24563215: 1,\n",
       " 3139235347: 1,\n",
       " 246033946: 1,\n",
       " 22703645: 2,\n",
       " 30461476: 2,\n",
       " 3184807468: 1,\n",
       " 187289134: 1,\n",
       " 43028030: 3,\n",
       " 2248724040: 1,\n",
       " 393162313: 5,\n",
       " 862015052: 2,\n",
       " 77499983: 3,\n",
       " 500059727: 2,\n",
       " 155553361: 2,\n",
       " 165793361: 1,\n",
       " 71028310: 1,\n",
       " 603549278: 2,\n",
       " 478129767: 1,\n",
       " 115551858: 1,\n",
       " 473984629: 1,\n",
       " 968650362: 1,\n",
       " 843303465870938112: 1,\n",
       " 472313473: 2,\n",
       " 19394188: 3,\n",
       " 2473143948: 2,\n",
       " 3372461709: 1,\n",
       " 18697888: 1,\n",
       " 56413858: 3,\n",
       " 732139172: 6,\n",
       " 608841381: 1,\n",
       " 2421067430: 34,\n",
       " 18632361: 1,\n",
       " 2165583530: 2,\n",
       " 39702190: 2,\n",
       " 89231038: 1,\n",
       " 3219812035: 4,\n",
       " 2922114764: 2,\n",
       " 286748372: 1,\n",
       " 20967126: 2,\n",
       " 3248033496: 4,\n",
       " 970461: 1,\n",
       " 3303313131: 1,\n",
       " 269266669: 1,\n",
       " 57495284: 2,\n",
       " 2796326655: 1,\n",
       " 843217449172459520: 2,\n",
       " 461385489: 1,\n",
       " 21696279: 2,\n",
       " 14700316: 1,\n",
       " 118845216: 1,\n",
       " 149606187: 1,\n",
       " 42684221: 1,\n",
       " 556814156: 3,\n",
       " 2537639761: 2,\n",
       " 562433875: 1,\n",
       " 7040852: 7,\n",
       " 798535514: 1,\n",
       " 523988830: 1,\n",
       " 42520414: 1,\n",
       " 179785566: 2,\n",
       " 551014258: 1,\n",
       " 70807410: 1,\n",
       " 988639098: 1,\n",
       " 22368125: 2,\n",
       " 42291075: 3,\n",
       " 4837060487: 1,\n",
       " 809551471486320640: 3,\n",
       " 720256277662810112: 2,\n",
       " 817889486247968768: 1,\n",
       " 795294727054704640: 1,\n",
       " 2239852446: 2,\n",
       " 18337695: 1,\n",
       " 243889154: 7,\n",
       " 79048623: 1,\n",
       " 1438863295: 2,\n",
       " 117559240: 1,\n",
       " 2221445064: 1,\n",
       " 396267466: 2,\n",
       " 38932456: 1,\n",
       " 245174254: 3,\n",
       " 18550772: 2,\n",
       " 843258144461533184: 2,\n",
       " 806562232288964608: 2,\n",
       " 825561319596232704: 4,\n",
       " 824619744506507266: 1,\n",
       " 822229275927605252: 2,\n",
       " 769903960102735872: 4,\n",
       " 765257610182340609: 1,\n",
       " 756296486518870020: 2,\n",
       " 845785807982088196: 2,\n",
       " 824299689801633798: 1,\n",
       " 826049221417635844: 1,\n",
       " 849306611474739206: 2,\n",
       " 461713420: 1,\n",
       " 22982668: 1,\n",
       " 826133244823367686: 2,\n",
       " 824797212425191425: 7,\n",
       " 172511244: 1,\n",
       " 32362515: 1,\n",
       " 355872790: 1,\n",
       " 54636567: 5,\n",
       " 29560857: 2,\n",
       " 2568622107: 4,\n",
       " 878284831: 1,\n",
       " 951726115: 2,\n",
       " 21434408: 2,\n",
       " 731803688: 1,\n",
       " 377778216: 3,\n",
       " 14135350: 5,\n",
       " 215207998: 4,\n",
       " 803926081: 1,\n",
       " 970207298: 64,\n",
       " 72421448: 1,\n",
       " 47837269: 3,\n",
       " 19607639: 1,\n",
       " 3736424545: 2,\n",
       " 1119391856: 2,\n",
       " 2835886194: 1,\n",
       " 769587003822182400: 9,\n",
       " 706876542832349184: 1,\n",
       " 781631745623855104: 1,\n",
       " 778340900606840832: 1,\n",
       " 789190279676825600: 4,\n",
       " 750371862220115969: 1,\n",
       " 119115911: 6,\n",
       " 786268730586042369: 1,\n",
       " 778690116755656705: 3,\n",
       " 784834732513038337: 1,\n",
       " 763952535245688833: 2,\n",
       " 17248402: 1,\n",
       " 40751258: 1,\n",
       " 1341567133: 3,\n",
       " 1201819807: 2,\n",
       " 20148396: 3,\n",
       " 2572972213: 3,\n",
       " 807095: 9,\n",
       " 78704825: 2,\n",
       " 324636866: 8,\n",
       " 3865186513: 2,\n",
       " 2984915154: 2,\n",
       " 15552727: 2,\n",
       " 2356310243: 3,\n",
       " 1345941733: 2,\n",
       " 2957734127: 2,\n",
       " 18444530: 1,\n",
       " 19198194: 3,\n",
       " 3507581176: 1,\n",
       " 31682814: 1,\n",
       " 1965420800: 1,\n",
       " 825701254512910336: 1,\n",
       " 4394807554: 1,\n",
       " 709383299278446592: 2,\n",
       " 932196612: 1,\n",
       " 744252001572233216: 7,\n",
       " 764479251445850112: 1,\n",
       " 747807250819981312: 1,\n",
       " 822586745040543744: 2,\n",
       " 757396488913821696: 2,\n",
       " 750438537833619457: 1,\n",
       " 114782468: 1,\n",
       " 824072368603668481: 1,\n",
       " 827963212872163329: 1,\n",
       " 1022079248: 1,\n",
       " 101781777: 2,\n",
       " 21147939: 2,\n",
       " 98160936: 2,\n",
       " 2402455850: 1,\n",
       " 259395895: 18,\n",
       " 241389880: 1,\n",
       " 3413086523: 1,\n",
       " 328282429: 1,\n",
       " 117772607: 2,\n",
       " 266326338: 1,\n",
       " 32272710: 1,\n",
       " 41169223: 1,\n",
       " 67514697: 1,\n",
       " 19730774: 2,\n",
       " 480850264: 1,\n",
       " 118190428: 1,\n",
       " 709144926: 2,\n",
       " 2987946345: 1,\n",
       " 2218733948: 1,\n",
       " 826793905702055936: 1,\n",
       " 824833387063947264: 1,\n",
       " 770781940341288960: 1,\n",
       " 706959926879334400: 1,\n",
       " 833763993390952448: 1,\n",
       " 707400191943389185: 1,\n",
       " 771176743667249153: 1,\n",
       " 405229960: 2,\n",
       " 757592319637860353: 1,\n",
       " 2951975306: 1,\n",
       " 749963: 1,\n",
       " 1561350540: 1,\n",
       " 16585101: 3,\n",
       " 16232843: 4,\n",
       " 874828182: 3,\n",
       " 32256414: 3,\n",
       " 84824482: 1,\n",
       " 844067244: 5,\n",
       " 19509676: 4,\n",
       " 23712174: 1,\n",
       " 412864943: 1,\n",
       " 3430035886: 1,\n",
       " 353448367: 3,\n",
       " 130617778: 5,\n",
       " 328470960: 1,\n",
       " 30101940: 1,\n",
       " 499225004: 1,\n",
       " 192770486: 1,\n",
       " 1240428998: 1,\n",
       " 21778891: 1,\n",
       " 582439372: 2,\n",
       " 321024461: 1,\n",
       " 952816081: 2,\n",
       " 2792681939: 2,\n",
       " 11866582: 2,\n",
       " 508006873: 3,\n",
       " 137794015: 1,\n",
       " 570290656: 4,\n",
       " 1934758369: 1,\n",
       " 780509810416648192: 2,\n",
       " 787844181515534336: 2,\n",
       " 24900072: 1,\n",
       " 21860841: 1,\n",
       " 814230622420041728: 1,\n",
       " 2558464495: 2,\n",
       " 24539633: 2,\n",
       " 31445492: 3,\n",
       " 125145589: 1,\n",
       " 76067316: 3,\n",
       " 720177466095058944: 3,\n",
       " 41865730: 1,\n",
       " 487158273: 1,\n",
       " 818910970567344128: 1,\n",
       " 720445825512521728: 2,\n",
       " 838061560396398593: 1,\n",
       " 829841470383341569: 1,\n",
       " 818927131883356161: 36,\n",
       " 869154817: 3,\n",
       " 103608842: 2,\n",
       " 830101596197502978: 1,\n",
       " 816048441432358914: 2,\n",
       " 349803020: 7,\n",
       " 519025164: 2,\n",
       " 825347352638668801: 3,\n",
       " 274780681: 1,\n",
       " ...}"
      ]
     },
     "execution_count": 53,
     "metadata": {},
     "output_type": "execute_result"
    }
   ],
   "source": [
    "# let's plot the degree distribution inside the LCC\n",
    "degrees = nx.degree(LCC)\n",
    "degrees"
   ]
  },
  {
   "cell_type": "code",
   "execution_count": 54,
   "metadata": {
    "collapsed": false
   },
   "outputs": [
    {
     "data": {
      "image/png": "[encoded data removed]",
      "text/plain": [
       "<matplotlib.figure.Figure at 0x7f07e8918160>"
      ]
     },
     "metadata": {},
     "output_type": "display_data"
    }
   ],
   "source": [
    "degree_array = np.array(list(degrees.values()))\n",
    "hist = plt.hist(degree_array, bins=100)"
   ]
  },
  {
   "cell_type": "code",
   "execution_count": 55,
   "metadata": {
    "collapsed": false
   },
   "outputs": [
    {
     "data": {
      "image/png": "[encoded data removed]",
      "text/plain": [
       "<matplotlib.figure.Figure at 0x7f07d2fbada0>"
      ]
     },
     "metadata": {},
     "output_type": "display_data"
    }
   ],
   "source": [
    "# using logarithmic scales\n",
    "hist = plt.hist(degree_array, bins=100, log=True)\n",
    "plt.xscale('log')\n"
   ]
  },
  {
   "cell_type": "code",
   "execution_count": 56,
   "metadata": {
    "collapsed": false
   },
   "outputs": [
    {
     "data": {
      "text/plain": [
       "<matplotlib.text.Text at 0x7f07d1ac8cc0>"
      ]
     },
     "execution_count": 56,
     "metadata": {},
     "output_type": "execute_result"
    },
    {
     "data": {
      "image/png": "[encoded data removed]",
      "text/plain": [
       "<matplotlib.figure.Figure at 0x7f07d2bd1be0>"
      ]
     },
     "metadata": {},
     "output_type": "display_data"
    }
   ],
   "source": [
    "# logarithmic scale with logarithmic bins\n",
    "N, bins, patches = plt.hist(degree_array, bins=np.logspace(0,np.log10(degree_array.max()+1), 20), log=True)\n",
    "plt.xscale('log')\n",
    "plt.xlabel('k - degree')\n",
    "plt.ylabel('number of nodes')\n"
   ]
  },
  {
   "cell_type": "code",
   "execution_count": 57,
   "metadata": {
    "collapsed": false
   },
   "outputs": [
    {
     "name": "stdout",
     "output_type": "stream",
     "text": [
      "1.0\n"
     ]
    },
    {
     "data": {
      "text/plain": [
       "<matplotlib.text.Text at 0x7f07d395fcc0>"
      ]
     },
     "execution_count": 57,
     "metadata": {},
     "output_type": "execute_result"
    },
    {
     "data": {
      "image/png": "[encoded data removed]",
      "text/plain": [
       "<matplotlib.figure.Figure at 0x7f07d1494da0>"
      ]
     },
     "metadata": {},
     "output_type": "display_data"
    }
   ],
   "source": [
    "# Degree probability distribution (P(k))\n",
    "\n",
    "# since we have logarithmic bins, we need to\n",
    "# take into account the fact that the bins \n",
    "# have different lenghts when normalizing\n",
    "bin_lengths = np.diff(bins) # lenght of each bin\n",
    "\n",
    "summ = np.sum(N*bin_lengths)\n",
    "normalized_degree_dist = N/summ\n",
    "\n",
    "# check normalization:\n",
    "print(np.sum(normalized_degree_dist*bin_lengths))\n",
    "\n",
    "hist = plt.bar(bins[:-1], normalized_degree_dist, width=np.diff(bins))\n",
    "plt.xscale('log')\n",
    "plt.yscale('log')\n",
    "plt.xlabel('k (degree)')\n",
    "plt.ylabel('P(k)')"
   ]
  },
  {
   "cell_type": "markdown",
   "metadata": {},
   "source": [
    "### Exercise: do the same for the Graph comprising only retweet, replies, quote and mentions"
   ]
  },
  {
   "cell_type": "markdown",
   "metadata": {},
   "source": [
    "### Percolation of the Giant Component"
   ]
  },
  {
   "cell_type": "code",
   "execution_count": 58,
   "metadata": {
    "collapsed": true
   },
   "outputs": [],
   "source": [
    "import random\n",
    "\n",
    "def getGCsize(G):\n",
    "    \"\"\" returns the size of the largest component of G\"\"\"\n",
    "        \n",
    "    comps = nx.connected_components(G)\n",
    "    return max([len(comp) for comp in comps])\n",
    "    \n"
   ]
  },
  {
   "cell_type": "markdown",
   "metadata": {},
   "source": [
    "#### Random Attack:"
   ]
  },
  {
   "cell_type": "code",
   "execution_count": 59,
   "metadata": {
    "collapsed": false
   },
   "outputs": [],
   "source": [
    "# list that will contain the size of the GC as we remove nodes\n",
    "rnd_attack_GC_sizes = []\n",
    "\n",
    "# we will take into account the undirected version of the graph\n",
    "LCCundirected = nx.Graph(LCC)\n",
    "\n",
    "nodes_list = LCCundirected.nodes()\n",
    "\n",
    "\n",
    "while len(nodes_list) > 1:\n",
    "    # add the size of the  current GC\n",
    "    rnd_attack_GC_sizes.append(getGCsize(LCCundirected))\n",
    "    \n",
    "    # pick a random node\n",
    "    rnd_node = random.choice(nodes_list)\n",
    "    # remove from graph\n",
    "    LCCundirected.remove_node(rnd_node)\n",
    "    # remove from node list\n",
    "    nodes_list.remove(rnd_node)\n"
   ]
  },
  {
   "cell_type": "code",
   "execution_count": 60,
   "metadata": {
    "collapsed": false
   },
   "outputs": [
    {
     "data": {
      "text/plain": [
       "<matplotlib.text.Text at 0x7f07e8c8d080>"
      ]
     },
     "execution_count": 60,
     "metadata": {},
     "output_type": "execute_result"
    },
    {
     "data": {
      "image/png": "[encoded data removed]",
      "text/plain": [
       "<matplotlib.figure.Figure at 0x7f07e8cd8c50>"
      ]
     },
     "metadata": {},
     "output_type": "display_data"
    }
   ],
   "source": [
    "# convert list to numpy array\n",
    "rnd_attack_GC_sizes = np.array(rnd_attack_GC_sizes)\n",
    "\n",
    "# normalize by the initial size of the GC\n",
    "GC_rnd = rnd_attack_GC_sizes/rnd_attack_GC_sizes[0]\n",
    "\n",
    "# fraction of removed nodes\n",
    "q = np.linspace(0,1,num=GC_rnd.size)\n",
    "\n",
    "plt.plot(q,GC_rnd)\n",
    "plt.xlabel('q')\n",
    "plt.ylabel('GC')\n"
   ]
  },
  {
   "cell_type": "markdown",
   "metadata": {},
   "source": [
    "#### High degree attack:"
   ]
  },
  {
   "cell_type": "code",
   "execution_count": 61,
   "metadata": {
    "collapsed": false
   },
   "outputs": [],
   "source": [
    "# high degree attack\n",
    "LCCundirected = nx.Graph(LCC)\n",
    "\n",
    "# list of pairs (node, degree) sorted according the degree\n",
    "node_deg_dict = nx.degree(LCCundirected)\n",
    "nodes_sorted = sorted(node_deg_dict, key=node_deg_dict.get)\n",
    "\n",
    "# list that will contain the size of the GC as we remove nodes\n",
    "hd_attack_GC_sizes = []\n",
    "\n",
    "while len(nodes_sorted) > 1:\n",
    "    \n",
    "    hd_attack_GC_sizes.append(getGCsize(LCCundirected))\n",
    "    \n",
    "    #remove node according to their degree\n",
    "    node = nodes_sorted.pop()\n",
    "    LCCundirected.remove_node(node)\n",
    "    \n",
    "    \n",
    "\n"
   ]
  },
  {
   "cell_type": "code",
   "execution_count": 62,
   "metadata": {
    "collapsed": false
   },
   "outputs": [
    {
     "data": {
      "text/plain": [
       "<matplotlib.legend.Legend at 0x7f07d3a2b7b8>"
      ]
     },
     "execution_count": 62,
     "metadata": {},
     "output_type": "execute_result"
    },
    {
     "data": {
      "image/png": "[encoded data removed]",
      "text/plain": [
       "<matplotlib.figure.Figure at 0x7f07d3848cc0>"
      ]
     },
     "metadata": {},
     "output_type": "display_data"
    }
   ],
   "source": [
    "hd_attack_GC_sizes = np.array(hd_attack_GC_sizes)\n",
    "GC_hd = hd_attack_GC_sizes/hd_attack_GC_sizes[0]\n",
    "q = np.linspace(0,1,num=GC_hd.size)\n",
    "\n",
    "plt.plot(q,GC_rnd, label='random attack')\n",
    "plt.plot(q,GC_hd, label='High-Degree attack')\n",
    "plt.xlabel('q')\n",
    "plt.ylabel('GC')\n",
    "plt.legend()\n"
   ]
  },
  {
   "cell_type": "markdown",
   "metadata": {},
   "source": [
    "#### Exercise: implement the High-Degree Adaptative (HDA) attack where at each step the node with the highest degree of the remaining graph is removed."
   ]
  },
  {
   "cell_type": "markdown",
   "metadata": {},
   "source": [
    "### Save the graph to a GraphML file:\n",
    "\n",
    "GraphML is file format based on XML useful for exchanging files between softwares.\n",
    "\n",
    "http://graphml.graphdrawing.org/"
   ]
  },
  {
   "cell_type": "code",
   "execution_count": 63,
   "metadata": {
    "collapsed": true
   },
   "outputs": [],
   "source": [
    "nx.write_graphml(LCC, 'twitter_lcc.graphml')"
   ]
  }
 ],
 "metadata": {
  "anaconda-cloud": {},
  "kernelspec": {
   "display_name": "Python 3",
   "language": "python",
   "name": "python3"
  },
  "language_info": {
   "codemirror_mode": {
    "name": "ipython",
    "version": 3
   },
   "file_extension": ".py",
   "mimetype": "text/x-python",
   "name": "python",
   "nbconvert_exporter": "python",
   "pygments_lexer": "ipython3",
   "version": "3.6.0"
  }
 },
 "nbformat": 4,
 "nbformat_minor": 2
}
